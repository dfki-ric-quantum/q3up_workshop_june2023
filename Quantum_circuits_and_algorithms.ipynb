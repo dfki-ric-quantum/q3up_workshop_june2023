{
 "cells": [
  {
   "cell_type": "markdown",
   "id": "78c71a5c",
   "metadata": {},
   "source": [
    "# Quantum Circuits and Quantum Algorithms\n",
    "\n",
    "In this notebook, we will look at the basic building blocks of quantum algorithms and the universal language they are formulated in. First, if you are unfamiliar with jupyter notebooks:\n",
    "\n",
    "* Go to the `Help` menu above and select `User Interface Tour`\n",
    "* Press `H` or select `Help` -> `Keyboard Shortcuts` to see the most important keyboard shortcuts\n",
    "* Read the [Jupyter Documentation](https://docs.jupyter.org/en/latest/) for more details.\n",
    "\n",
    "You can change literally anything in this notebook, add and remove code, and also write notes in the markdown format. We recommend you make a backup copy of this file in case you need a fresh start.\n",
    "\n",
    "Let's get started."
   ]
  },
  {
   "cell_type": "markdown",
   "id": "096216da",
   "metadata": {},
   "source": [
    "## Setup\n",
    "\n",
    "First we need to import some packages. We will use _pennylane_ as the quantum computing framework. It has a very accessible and easy to understand API and comes with great documentation and lot's of examples demonstrating basic concepts in quantum computing as well as latest research in the field:\n",
    "\n",
    "* [Documentation](https://docs.pennylane.ai/en/stable/)\n",
    "* [Demos](https://pennylane.ai/qml/demonstrations/)"
   ]
  },
  {
   "cell_type": "code",
   "execution_count": 1,
   "id": "c3a3b401",
   "metadata": {},
   "outputs": [],
   "source": [
    "import pennylane as qml\n",
    "import numpy as np\n",
    "\n",
    "%matplotlib inline\n",
    "from workshop.utils import sample_histogram"
   ]
  },
  {
   "cell_type": "markdown",
   "id": "4663c1d3",
   "metadata": {},
   "source": [
    "## Quantum Circuits and Quantum Gates\n",
    "\n",
    "Before we get into quantum circuits and gates, let's quickly recap some fundamentals from the introduction session this week. "
   ]
  },
  {
   "cell_type": "markdown",
   "id": "cb3383a6",
   "metadata": {},
   "source": [
    "### Quantum States and qubits\n",
    "\n",
    "The basic computational resource on a quantum computer is a _qubit_. A qubit is a quantum mechanical system that can be observed in two distinct states, which we call $|0\\rangle$ and $|1\\rangle$.\n",
    "\n",
    "We can represent those two states as _basis vectors_:\n",
    "\n",
    "\\begin{align*}\n",
    "    |0\\rangle &= \\begin{bmatrix} 1 \\\\ 0 \\end{bmatrix} \\\\\n",
    "    |1\\rangle &= \\begin{bmatrix} 0 \\\\ 1 \\end{bmatrix} \n",
    "\\end{align*}"
   ]
  },
  {
   "cell_type": "markdown",
   "id": "580e6c79",
   "metadata": {},
   "source": [
    "If we _measure_ a qubit, we will always find it in either of those two states. Before we measure a qubit, it can be in a _superposition_ of those two basis states. A superposition is a linear combination of the two basis states, given by:\n",
    "\n",
    "\\begin{equation*}\n",
    "    |\\psi\\rangle = \\alpha |0\\rangle + \\beta |1\\rangle\n",
    "\\end{equation*}\n",
    "\n",
    "(**Note:** $\\alpha$ is the greek letter _alpha_, $\\beta$ the greek letter _beta_ and $\\psi$ the greek letter _psi_. Using these symbols in quantum mechanics and quantum computing is a common naming scheme.)"
   ]
  },
  {
   "cell_type": "markdown",
   "id": "9cac774d",
   "metadata": {},
   "source": [
    "The two numbers $\\alpha$ and $\\beta$ are called _amplitudes_ of the quantum state. They are both [complex numbers](https://en.wikipedia.org/wiki/Complex_number), that is \n",
    "\n",
    "\\begin{equation*}\n",
    "    \\alpha, \\beta \\in\\mathbb{C}.\n",
    "\\end{equation*}\n",
    "\n",
    "Furthermore, the sum of their _absolute squares_ is always $1$, i.e.:\n",
    "\n",
    "\\begin{equation*}\n",
    "    |\\alpha|^2 + |\\beta|^2 = 1.\n",
    "\\end{equation*}"
   ]
  },
  {
   "cell_type": "markdown",
   "id": "4f69671a",
   "metadata": {},
   "source": [
    "Measuring a qubit, is probablistic in nature. The probabilities of measuring the qubit in either of the two basis states is given by:\n",
    "\n",
    "\\begin{align*}\n",
    "    P(|0\\rangle) &= |\\alpha|^2 \\\\\n",
    "    P(|1\\rangle) &= |\\beta|^2.\n",
    "\\end{align*}\n",
    "\n",
    "Note that once we measure a qubit, it _collapses_ to the state that we actually measure. There is no way to observe the amplitudes directly or to reverse the destructive effect of a measurement. "
   ]
  },
  {
   "cell_type": "markdown",
   "id": "9ed86714",
   "metadata": {},
   "source": [
    "Superposition and the probablistic outcome of oberservation are (not the only) somewhat counterintuitive aspects of quantum mechanics, and therefore quantum computing, that are very different from our everyday experience interacting with the world. They really have no equivalent in the macroscopic world we observe all our live, therefore almost all analogies will necessarily be contrived and not really helpful. Many great minds have come up with theories and interpretations of what these things actually mean, but we will not get involved with that.\n",
    "\n",
    "For now it is the best to just take it as it is. Know though that these things have been predicted and proven in theory and confirmed experimentally many times (we will get to that a bit at the end of the notebook)."
   ]
  },
  {
   "cell_type": "markdown",
   "id": "65e7e33e",
   "metadata": {},
   "source": [
    "### Unitary Operations and Quantum Gates\n",
    "\n",
    "To do anything useful with a quantum computer, we have to manipulate the state of its qubits in some controlled way, so that the measurement result are the outcomes of a useful computation (at least with high probability). For now we will only look at a single qubit, which isn't all that useful, and get to multi-qubit systems a bit later."
   ]
  },
  {
   "cell_type": "markdown",
   "id": "0449d34a",
   "metadata": {},
   "source": [
    "At the beginning of the computation, all qubits of a quantum computer are usually initialized in state $|0\\rangle$. The manipulations we can perform on them are mathematically described by [Unitary Matrices](https://en.wikipedia.org/wiki/Unitary_matrix). That is, if our qubit is in some state $|\\psi\\rangle$ at time $t$ and we perform some operation $\\hat{U}$ (note that unitary matrices are usually written with a _hat_ on top of their name) that finishes at time $t+1$, we will find the qubit in state $|\\psi^\\prime\\rangle$ given by:\n",
    "\n",
    "\\begin{equation*}\n",
    "    |\\psi^\\prime\\rangle = \\hat{U}|\\psi\\rangle.\n",
    "\\end{equation*}\n",
    "\n",
    "In principle, every unitary operation describes a valid operation on a qubit. In practise, only a limited number of unitaries are actually available as operations on quantum hardware and in this notebook we will limit the discussion to a total of three.\n",
    "\n",
    "#### The Pauli X operator\n",
    "\n",
    "The first operator we are going to look at is the Pauli X operator, also refered to just as _X_ operator or sometimes bitflip operator. It's unitary matrix representation is given by:\n",
    "\n",
    "\\begin{equation*}\n",
    "    \\hat{X} := \\begin{bmatrix} 0 & 1 \\\\ 1 & 0 \\end{bmatrix}.\n",
    "\\end{equation*}\n",
    "\n",
    "If we apply the Pauli X operator to one of the two basis states of the qubit, it \"flips\" the qubit to the other basis state:\n",
    "\n",
    "\\begin{align*}\n",
    "\\hat{X}|0\\rangle &= \\begin{bmatrix} 0 & 1 \\\\ 1 & 0 \\end{bmatrix}\\begin{bmatrix} 1 \\\\ 0 \\end{bmatrix}\n",
    "            = \\begin{bmatrix} 0 \\\\ 1 \\end{bmatrix} = |1\\rangle  \\\\\n",
    "\\hat{X}|1\\rangle &= \\begin{bmatrix} 0 & 1 \\\\ 1 & 0 \\end{bmatrix}\\begin{bmatrix} 0 \\\\ 1 \\end{bmatrix}\n",
    "            = \\begin{bmatrix} 1 \\\\ 0 \\end{bmatrix} = |0\\rangle\n",
    "\\end{align*}\n",
    "\n",
    "More interesting is what happens when X is applied to a state in superposition. The Pauli X operator then \"flips\" the amplitudes between both basis components. For a state in superposition $|\\psi\\rangle = \\alpha|0\\rangle + \\beta|1\\rangle$ we have:\n",
    "\n",
    "\\begin{align*}\n",
    "    \\hat{X}|\\psi\\rangle &= \\begin{bmatrix} 0 & 1 \\\\ 1 & 0 \\end{bmatrix}(\\alpha|0\\rangle + \\beta|1\\rangle) \n",
    "                   =\\begin{bmatrix} 0 & 1 \\\\ 1 & 0 \\end{bmatrix}\\begin{bmatrix} \\alpha \\\\ \\beta \\end{bmatrix} \\\\\n",
    "                  &= \\begin{bmatrix} \\beta \\\\ \\alpha \\end{bmatrix}\n",
    "                   = \\beta|0\\rangle + \\alpha|1\\rangle\n",
    "\\end{align*}"
   ]
  },
  {
   "cell_type": "markdown",
   "id": "274e2c34",
   "metadata": {},
   "source": [
    "#### Quantum Circuits and Gates\n",
    "\n",
    "Time to put this into action. Like regular classical computers you are used to working with every day, quantum computers have several layers of abstraction, that we have access to, if we want to do something with them:\n",
    "\n",
    "* On the lowest level, qubits can be manipulated by directly controlling, e.g., microwave pulses that interact with the system. This level is very dependent on the concrete hardware implementation and usually only relevant to implement higher levels of abstraction.\n",
    "* The common level of abstraction is the language of quantum circuits and gates. Quantum gates correspond to unitary operations on one or several qubits. A quantum circuit describes the consecutive execution of gates over time.\n",
    "* Higher level abstractions exist and commonly build on quantum circuits for common algorithms as subroutines. Higher level programming languages, domain specific languages (DSLs), and abstractions for quantum computing are an active field of research.\n",
    "\n",
    "We will only work with quantum circuits and quantum gates in this notebook and throughout the workshop."
   ]
  },
  {
   "cell_type": "markdown",
   "id": "eca7efc5",
   "metadata": {},
   "source": [
    "**Note:** The naming _circuit_ and _gate_ in this context have historical reasons and may be a bit unfortunate as they have nothing to do with electircal circuits or boolean circuits. Think of quantum circuits more like a flow-chart of operations to be executed on one or several qubits."
   ]
  },
  {
   "cell_type": "markdown",
   "id": "8a41328f",
   "metadata": {},
   "source": [
    "We will first implement a simple circuit and then look at its visual representation. First, we need a _device_. A device in pennylane is either a quantum circuit simulator, or the implementation of an API for an actual quantum computer. We will stick to the most basic quantum circuit simulator pennylane ships with: `default.qubit`. We create the device with three paramteters:\n",
    "\n",
    "* The name/type of device, in our case `default.qubit`\n",
    "* The number of `wires` which is the number of qubits we want to simulate; for now we will simulate just one.\n",
    "* The number of `shots` we want to take. Remember that measurements are probablistic, so in order to understand the results, we commonly execute the same quantum circuit many times and do statistics over the measurement results to get an expectation value. On quantum hardware, it is common to execute 5000 to 10000 shots, but 1000 will suffice for our experiments here."
   ]
  },
  {
   "cell_type": "code",
   "execution_count": 2,
   "id": "5a9705e1",
   "metadata": {},
   "outputs": [],
   "source": [
    "device = qml.device(\"default.qubit\", wires=1, shots=1000)"
   ]
  },
  {
   "cell_type": "markdown",
   "id": "f23e4312",
   "metadata": {},
   "source": [
    "In pennylane, to describe a quantum circuit, we wrap it inside a function and add the decorator `@qml.qnode` which tells the framework to run this function on the provided device.\n",
    "\n",
    "To start, we will implement a very simple circuit that simply computes:\n",
    "\n",
    "\\begin{equation*}\n",
    "    \\hat{X}|0\\rangle = |1\\rangle\n",
    "\\end{equation*}\n",
    "\n",
    "This is how the function looks:"
   ]
  },
  {
   "cell_type": "code",
   "execution_count": 3,
   "id": "05eba769",
   "metadata": {},
   "outputs": [],
   "source": [
    "@qml.qnode(device)\n",
    "def bitflip_circuit():\n",
    "    # Apply the Pauli X gate to the first (and only) qubit\n",
    "    qml.PauliX(wires=0)\n",
    "    \n",
    "    # Sample measurement results. Since we set the `device` to 1000 shots, 1000 samples\n",
    "    # will be drawn.\n",
    "    return qml.sample()"
   ]
  },
  {
   "cell_type": "markdown",
   "id": "dcd58b71",
   "metadata": {},
   "source": [
    "Before we execute the circuit, let's have a look at its visual representation:"
   ]
  },
  {
   "cell_type": "code",
   "execution_count": 4,
   "id": "7273fc9d",
   "metadata": {},
   "outputs": [
    {
     "data": {
      "text/plain": [
       "(<Figure size 400x200 with 1 Axes>, <Axes:>)"
      ]
     },
     "execution_count": 4,
     "metadata": {},
     "output_type": "execute_result"
    },
    {
     "data": {
      "image/png": "[encoded data removed]",
      "text/plain": [
       "<Figure size 400x200 with 1 Axes>"
      ]
     },
     "metadata": {},
     "output_type": "display_data"
    }
   ],
   "source": [
    "qml.draw_mpl(bitflip_circuit)()"
   ]
  },
  {
   "cell_type": "markdown",
   "id": "3644647e",
   "metadata": {},
   "source": [
    "The circuit is read from left to right. The first thing we see is an index for the qubit. The line going from left to right represents this qubit over the course of execution. Each of the boxes is a gate applied to the qubit. The first one being the Pauli X gate (**Note:** we use the terms _gate_, _operation_ and _unitary_ interchangeably, since they mean the same thing but in different contexts). The final box is the _measurement gate_, which represents the measurement of the qubit at the end of the computation."
   ]
  },
  {
   "cell_type": "markdown",
   "id": "eb16ffa6",
   "metadata": {},
   "source": [
    "Running the circuit on the simulator device is as simple as calling the function we've just defined."
   ]
  },
  {
   "cell_type": "code",
   "execution_count": 5,
   "id": "620d8b13",
   "metadata": {},
   "outputs": [],
   "source": [
    "samples = bitflip_circuit()"
   ]
  },
  {
   "cell_type": "markdown",
   "id": "9b711222",
   "metadata": {},
   "source": [
    "`samples` is now an array with all the 1000 measurement results, either $0$ for the state $|0\\rangle$ or $1$ for the state $|1\\rangle$. Let's check this:"
   ]
  },
  {
   "cell_type": "code",
   "execution_count": 6,
   "id": "3fdfd236",
   "metadata": {
    "scrolled": true
   },
   "outputs": [
    {
     "name": "stdout",
     "output_type": "stream",
     "text": [
      "Simulating the circuit for 1000 shots returned 1000 samples.\n"
     ]
    }
   ],
   "source": [
    "print(f\"Simulating the circuit for {device.shots} shots returned {len(samples)} samples.\")"
   ]
  },
  {
   "cell_type": "markdown",
   "id": "3a8186e1",
   "metadata": {},
   "source": [
    "Given the previous discussion, you can probably guess what all those 1000 samples will be? Let's have a look:"
   ]
  },
  {
   "cell_type": "code",
   "execution_count": 7,
   "id": "0b1a9cab",
   "metadata": {},
   "outputs": [
    {
     "data": {
      "image/png": "[encoded data removed]",
      "text/plain": [
       "<Figure size 640x480 with 1 Axes>"
      ]
     },
     "metadata": {},
     "output_type": "display_data"
    }
   ],
   "source": [
    "sample_histogram(samples)"
   ]
  },
  {
   "cell_type": "markdown",
   "id": "1d49e769",
   "metadata": {},
   "source": [
    "Unsurprisingly, all mesurements returned $|1\\rangle$, since applying the Pauli X gate to the $|0\\rangle$ state our computation starts in just \"flips\" to that state. There is no probability of measuring $|0\\rangle$. "
   ]
  },
  {
   "cell_type": "markdown",
   "id": "22e0a545",
   "metadata": {},
   "source": [
    "#### The Hadamard Operator\n",
    "\n",
    "The second single-qubit gate we will need in this notebook is the _Hadamard_ operator:\n",
    "\n",
    "\\begin{equation*}\n",
    "    \\hat{H} := \\frac{1}{\\sqrt{2}}\\begin{bmatrix} 1 & 1 \\\\ 1 & -1\\end{bmatrix}\n",
    "\\end{equation*}\n"
   ]
  },
  {
   "cell_type": "markdown",
   "id": "7ad01c43",
   "metadata": {},
   "source": [
    "The Hadamard operator is a major building block of almost every quantum algorithm, so it especially important to know it and understand what it does. So what does it do? It transitions a qubit from one of the basis states to a superposition with _equal_ probability of measuring either basis state afterwards. Quantum algorithms commonly operate on qubits in superposition, otherwise they wouldn't be so different from classical algorithms operating on bits."
   ]
  },
  {
   "cell_type": "markdown",
   "id": "c35e1c3a",
   "metadata": {},
   "source": [
    "Let's have a look of what the Hadamard operator does to the two basis states:\n",
    "\n",
    "\\begin{align*}\n",
    "    \\hat{H}|0\\rangle &= \\frac{1}{\\sqrt{2}}(|0\\rangle + |1\\rangle) = |+\\rangle \\\\\n",
    "    \\hat{H}|1\\rangle &= \\frac{1}{\\sqrt{2}}(|0\\rangle - |1\\rangle) = |-\\rangle\n",
    "\\end{align*}\n",
    "\n",
    "Hopefully, you can convince yourself that the two resulting states would be measured in either $|0\\rangle$ or $|1\\rangle$, since \n",
    "\n",
    "\\begin{equation*}\n",
    "\\left|\\pm \\frac{1}{\\sqrt{2}}\\right|^2 = \\frac{1}{2}.\n",
    "\\end{equation*}"
   ]
  },
  {
   "cell_type": "markdown",
   "id": "744390c2",
   "metadata": {},
   "source": [
    "The two states $|+\\rangle$ and $|-\\rangle$ are referred to as _Hadamard Basis_ of the qubit."
   ]
  },
  {
   "cell_type": "markdown",
   "id": "12ea8329",
   "metadata": {},
   "source": [
    "Time to try the Hadamard gate. We essentially just replace the `PauliX` gate in our previous circuit with a `Hadamard` gate:"
   ]
  },
  {
   "cell_type": "code",
   "execution_count": 8,
   "id": "23debd29",
   "metadata": {},
   "outputs": [],
   "source": [
    "@qml.qnode(device)\n",
    "def hadamard_circuit():\n",
    "    qml.Hadamard(wires=0)\n",
    "    \n",
    "    return qml.sample()"
   ]
  },
  {
   "cell_type": "markdown",
   "id": "4857f188",
   "metadata": {},
   "source": [
    "Let's have a look at the actual circuit:"
   ]
  },
  {
   "cell_type": "code",
   "execution_count": 9,
   "id": "9fda387f",
   "metadata": {},
   "outputs": [
    {
     "data": {
      "text/plain": [
       "(<Figure size 400x200 with 1 Axes>, <Axes:>)"
      ]
     },
     "execution_count": 9,
     "metadata": {},
     "output_type": "execute_result"
    },
    {
     "data": {
      "image/png": "[encoded data removed]",
      "text/plain": [
       "<Figure size 400x200 with 1 Axes>"
      ]
     },
     "metadata": {},
     "output_type": "display_data"
    }
   ],
   "source": [
    "qml.draw_mpl(hadamard_circuit)()"
   ]
  },
  {
   "cell_type": "markdown",
   "id": "b97c3a64",
   "metadata": {},
   "source": [
    "And execute it on the simulator:"
   ]
  },
  {
   "cell_type": "code",
   "execution_count": 10,
   "id": "aa8de746",
   "metadata": {},
   "outputs": [],
   "source": [
    "samples = hadamard_circuit()"
   ]
  },
  {
   "cell_type": "code",
   "execution_count": 11,
   "id": "69c35170",
   "metadata": {},
   "outputs": [
    {
     "data": {
      "image/png": "[encoded data removed]",
      "text/plain": [
       "<Figure size 640x480 with 1 Axes>"
      ]
     },
     "metadata": {},
     "output_type": "display_data"
    }
   ],
   "source": [
    "sample_histogram(samples)"
   ]
  },
  {
   "cell_type": "markdown",
   "id": "a2ccd008",
   "metadata": {},
   "source": [
    "As expected, we get roughly $500$ samples of each of the two basis states. The larger the number the of samples we draw, the more accurately it will result in a 50/50 split. The less samples we draw, the more biased the distribution might get."
   ]
  },
  {
   "cell_type": "markdown",
   "id": "4953652d",
   "metadata": {},
   "source": [
    "#### Exercises\n",
    "\n",
    "Now it's finally time to put what you have learned so far into action. Try the following exercises:\n",
    "\n",
    "* Create a quantum circuit that applies two _Hadamard_ gates after each other to a single qubit. Execute the circuit and visualize the measurement samples as above. What do you notice?\n",
    "* Create a circuit, that first puts the qubit into the state $|1\\rangle$ and then applies a single _Hadamard_ gate. How is the state produced by this circuit different compared to the `hadamard_circuit` above? Are the measurement results different?\n",
    "\n",
    "You can reuse the `device` we've created above or create a new one if you like."
   ]
  },
  {
   "cell_type": "markdown",
   "id": "70d76cd6",
   "metadata": {},
   "source": [
    "## Multi-qubit systems and Entanglement\n",
    "\n",
    "Working with a single qubit might be fun and interesting but before we can do anything useful, we need to have a look at systems with more than one qubit."
   ]
  },
  {
   "cell_type": "markdown",
   "id": "032357db",
   "metadata": {},
   "source": [
    "### Multi-qubit systems\n",
    "\n",
    "Again, first a quick recap of what you've learned in the introduction session of this workshop. A two qubit system has **four** basis states $|00\\rangle$, $|01\\rangle$, $|10\\rangle$ and $|11\\rangle$. The entire system is described by **four** complex valued amplitudes:\n",
    "\n",
    "\\begin{equation*}\n",
    "    |\\psi\\rangle = \\alpha_{00}|00\\rangle + \\alpha_{01}|01\\rangle + \\alpha_{10}|10\\rangle + \\alpha_{11}|11\\rangle\n",
    "\\end{equation*}\n",
    "\n",
    "Similar to a single qubit, we can write the two qubit system $|\\psi\\rangle$ as column vector as such:\n",
    "\n",
    "\\begin{equation*}\n",
    "    |\\psi\\rangle = \\begin{bmatrix} \\alpha_{00} \\\\ \\alpha_{01} \\\\ \\alpha_{10} \\\\ \\alpha_{11} \\end{bmatrix}.\n",
    "\\end{equation*}"
   ]
  },
  {
   "cell_type": "markdown",
   "id": "8f411cce",
   "metadata": {},
   "source": [
    "In general, an $n$ qubit system is represented by $2^n$ complex amplitudes, so the representation in form of column vectors would get _really_ impractical eventually to write down, which is one of the reasons the _Dirac_ notation in form of _kets_ is useful. Often, the basis states of a multi-qubit system are not written as bit-strings, but just numbered as $|0\\rangle, |1\\rangle, |2\\rangle, \\ldots, |2^n-1\\rangle$ if it is clear from context, what is meant."
   ]
  },
  {
   "cell_type": "markdown",
   "id": "17398be6",
   "metadata": {},
   "source": [
    "### Measurment of Multi-qubit systems\n",
    "\n",
    "For the measurement, basically the same rules as for a single qubit apply. A two qubit system can be measured in either of the four basis states with probabilities:\n",
    "\n",
    "\\begin{align*}\n",
    "    p(|00\\rangle &= |\\alpha_{00}|^2 \\\\\n",
    "    p(|01\\rangle &= |\\alpha_{01}|^2 \\\\\n",
    "    p(|10\\rangle &= |\\alpha_{10}|^2 \\\\\n",
    "    p(|11\\rangle &= |\\alpha_{11}|^2 \n",
    "\\end{align*}\n",
    "\n",
    "Consequently it always holds that\n",
    "\n",
    "\\begin{equation*}\n",
    "    |\\alpha_{00}|^2  + |\\alpha_{01}|^2  + |\\alpha_{10}|^2  + |\\alpha_{11}|^2  = 1\n",
    "\\end{equation*}\n",
    "\n",
    "**Note**: We can measure individual qubits of a multi-qubit system, some of them, or all of them.\n",
    "\n",
    "#### Exercise\n",
    "\n",
    "* For a two qubit system $|\\psi\\rangle$ as outlined above, what is the probability of measuring the first qubit in state $|1\\rangle$?"
   ]
  },
  {
   "cell_type": "markdown",
   "id": "47484dbc",
   "metadata": {},
   "source": [
    "The combined state of two qubits:\n",
    "\n",
    "\\begin{align*}\n",
    "    |a\\rangle &= \\begin{bmatrix} a_0 \\\\ a_1 \\end{bmatrix} \\\\\n",
    "    |b\\rangle &= \\begin{bmatrix} b_0 \\\\ b_1 \\end{bmatrix} \n",
    "\\end{align*}\n",
    "\n",
    "is composed by applying the _tensor product_:\n",
    "\n",
    "\\begin{equation*}\n",
    "    |ba\\rangle = \n",
    "    |b\\rangle|a\\rangle =\n",
    "    |b\\rangle \\otimes |a\\rangle =\n",
    "    \\begin{bmatrix}\n",
    "        b_0\\begin{bmatrix} a_0 \\\\ a_1 \\end{bmatrix} \\\\\n",
    "        b_1\\begin{bmatrix} a_0 \\\\ a_1 \\end{bmatrix}\n",
    "    \\end{bmatrix}\n",
    "    = \n",
    "    \\begin{bmatrix}\n",
    "        b_0a_0 \\\\ b_0a_1 \\\\ b_1a_0 \\\\ b_1a_1\n",
    "    \\end{bmatrix}\n",
    "\\end{equation*}"
   ]
  },
  {
   "cell_type": "markdown",
   "id": "df91d670",
   "metadata": {},
   "source": [
    "### The CNOT Gate"
   ]
  },
  {
   "cell_type": "markdown",
   "id": "acd11eff",
   "metadata": {},
   "source": [
    "Before we get to _entanglement_ and how to actually create it, we have a look at one of the most common and widely used two-qubit gates, the $CNOT$ gate. $CNOT$ is short for _Controlled Not_, which describes its action on two qubits in basis states. First the unitary matrix for the gate:\n",
    "\n",
    "\\begin{equation*}\n",
    "    CNOT := \\begin{bmatrix}\n",
    "        1 & 0 & 0 & 0 \\\\\n",
    "        0 & 1 & 0 & 0 \\\\\n",
    "        0 & 0 & 0 & 1 \\\\\n",
    "        0 & 0 & 1 & 0\n",
    "    \\end{bmatrix}\n",
    "\\end{equation*}\n",
    "\n",
    "In the standard basis, that is with qubits in either state $|0\\rangle$ or $|1\\rangle$, the first qubit the $CNOT$ gate acts on is called _control_ whereas the second is called _target_. The effect in the standard basis is best shown with a table, similar to a _truth table_ for classical logic operators:\n",
    "\n",
    "|Before     |           |              |After      |            |\n",
    "|:----------|:----------|:------------:|:----------|:-----------|\n",
    "|**Control**|**Target** |              |**Control**|**Target**  |\n",
    "|$|0\\rangle$|$|0\\rangle$|$\\Rightarrow$ |$|0\\rangle$|$|0\\rangle$ |\n",
    "|$|0\\rangle$|$|1\\rangle$|$\\Rightarrow$ |$|0\\rangle$|$|1\\rangle$ |\n",
    "|$|1\\rangle$|$|0\\rangle$|$\\Rightarrow$ |$|1\\rangle$|$|1\\rangle$ |\n",
    "|$|1\\rangle$|$|1\\rangle$|$\\Rightarrow$ |$|1\\rangle$|$|0\\rangle$ |"
   ]
  },
  {
   "cell_type": "markdown",
   "id": "a2a3daf7",
   "metadata": {},
   "source": [
    "#### Exercise\n",
    "\n",
    "Confirm the results from the table above. For this:\n",
    "\n",
    "* Create a new `\"default.qubit\"` device, but this time with two wires and some number of shots e.g., `1000`\n",
    "* Implement either one or multiple circuits to produce the results from the table.\n",
    "* Visualize the results.\n",
    "\n",
    "**Note 1:** The function that implements the circuit is basically a normal python function. You can give it parameters and have things like `if` statements or `for` loops inside it.\n",
    "\n",
    "**Note 2:** The $CNOT$ gate is available in pennylane as `qml.CNOT`, you can find the documentation [here](https://docs.pennylane.ai/en/stable/code/api/pennylane.CNOT.html).\n"
   ]
  },
  {
   "cell_type": "markdown",
   "id": "9277fd57",
   "metadata": {},
   "source": [
    "### Entanglement\n",
    "\n",
    "Using a $CNOT$ gate on qubits in the standard basis isn't all that interesting. More interesting things happen if we first put one or both qubits into superposition. To see this in action, we will do the following:\n",
    "\n",
    "* Start with two qubits in state $|00\\rangle$\n",
    "* Apply the _Hadamard_ gate to the first qubit, putting it into an equal superposition \n",
    "* Apply the _CNOT_ gate to both qubits\n",
    "* Measure both qubits"
   ]
  },
  {
   "cell_type": "markdown",
   "id": "1f020049",
   "metadata": {},
   "source": [
    "First we need a device with two qubits."
   ]
  },
  {
   "cell_type": "code",
   "execution_count": 12,
   "id": "52f4f0ca",
   "metadata": {
    "scrolled": true
   },
   "outputs": [],
   "source": [
    "device = qml.device(\"default.qubit\", wires=2, shots=1000)"
   ]
  },
  {
   "cell_type": "markdown",
   "id": "c2c8dbbb",
   "metadata": {},
   "source": [
    "Then the circuit, which should look somewhat familiar by now:"
   ]
  },
  {
   "cell_type": "code",
   "execution_count": 13,
   "id": "054e9a2f",
   "metadata": {},
   "outputs": [],
   "source": [
    "@qml.qnode(device)\n",
    "def bell_circuit():\n",
    "    qml.Hadamard(wires=0)\n",
    "    qml.CNOT(wires=[0, 1])\n",
    "    \n",
    "    return qml.sample()"
   ]
  },
  {
   "cell_type": "markdown",
   "id": "289e42ff",
   "metadata": {},
   "source": [
    "Let's see how it looks, before we run it:"
   ]
  },
  {
   "cell_type": "code",
   "execution_count": 14,
   "id": "17bffd49",
   "metadata": {},
   "outputs": [
    {
     "data": {
      "text/plain": [
       "(<Figure size 500x300 with 1 Axes>, <Axes:>)"
      ]
     },
     "execution_count": 14,
     "metadata": {},
     "output_type": "execute_result"
    },
    {
     "data": {
      "image/png": "[encoded data removed]",
      "text/plain": [
       "<Figure size 500x300 with 1 Axes>"
      ]
     },
     "metadata": {},
     "output_type": "display_data"
    }
   ],
   "source": [
    "qml.draw_mpl(bell_circuit)()"
   ]
  },
  {
   "cell_type": "markdown",
   "id": "a1ef2ff2",
   "metadata": {},
   "source": [
    "The _CNOT_ gate is the one spanning over both qubits. The black dot on top marks the _control_, the circle with the plus inside is the _target_. Let's run it:"
   ]
  },
  {
   "cell_type": "code",
   "execution_count": 15,
   "id": "2ad73ff3",
   "metadata": {},
   "outputs": [],
   "source": [
    "samples = bell_circuit()"
   ]
  },
  {
   "cell_type": "code",
   "execution_count": 16,
   "id": "51cef628",
   "metadata": {},
   "outputs": [
    {
     "data": {
      "image/png": "[encoded data removed]",
      "text/plain": [
       "<Figure size 640x480 with 1 Axes>"
      ]
     },
     "metadata": {},
     "output_type": "display_data"
    }
   ],
   "source": [
    "sample_histogram(samples)"
   ]
  },
  {
   "cell_type": "markdown",
   "id": "8ff04b44",
   "metadata": {},
   "source": [
    "The measurements are (roughly) half $|00\\rangle$ and $|11\\rangle$. The other two states were never observed. To understand the effect at work here, let us examine the state created by the circuit, which is (feel free to do the math to confirm this):\n",
    "\n",
    "\\begin{equation*}\n",
    "    |\\Phi^+\\rangle = \\frac{1}{\\sqrt{2}}(|00\\rangle + |11\\rangle)\n",
    "\\end{equation*}\n",
    "\n",
    "Given that the amplitude for $|00\\rangle$ and $|11\\rangle$ is $\\frac{1}{\\sqrt{2}}$ for both and $0$ for the other two basis states $|01\\rangle$ and $|10\\rangle$, we have a probability of exactly 50% of observing either of the first two and 0% for the other two.\n",
    "\n",
    "This state $|\\Phi^+\\rangle$ is one of the four **Bell States**, which are a group of _entangled_ states that play an important role in some fundamental discoveries in quantum mechanics (we will get to that in a moment) and that are also a building block and resource in many algorithms and protocols in quantum computing and quantum information.\n",
    "\n",
    "This type of state has two interesting properties:\n",
    "\n",
    "* It cannot be formulated as a tensor product of two individual qubits\n",
    "* Imagine you would give each of the qubits to one of two persons, say, Alice and Bob, and would separate them by a very large distance. Assume Alice now measures her qubit. With a probability of 50% she measures $|0\\rangle$ and with probability 50% $|1\\rangle$. Say she measured $|1\\rangle$. What do you think Bob will observe, if he measures his qubit now? He will _always_ measure the same state as Alice, no matter how often the experiment is repeated, the measurement results are _perfectly correlated_.\n",
    "\n",
    "No such thing exists outside of quantum mechanics. The theory predicting correlations created by quantum entanglement, that go beyond what is possible classically, had been first formulated by John S. Bell in 1964 and experimentally confirmed over the following deacades, leading to the Nobel price in physics for Alain Aspect, John Clauser and Anton Zeilinger in 2022. The actual experiment is a bit more involved than the setting described above, but still pretty simple. Since this whole topic is outside of the scope of this workshop, you can learn more about the history, experiment, results, and how to actually implement this in a great video by the IBM Qiskit team, which you can find [here](https://www.youtube.com/watch?v=9OM0jSTeeBg)."
   ]
  },
  {
   "cell_type": "markdown",
   "id": "f0a762d7",
   "metadata": {},
   "source": [
    "#### Exercise\n",
    "\n",
    "A generalization of Bell states are the Greenberger-Horne-Zeilinger (GHZ) states for $n>2$ qubits. They have the form:\n",
    "\n",
    "\\begin{equation*}\n",
    "    |GHZ\\rangle = \\frac{1}{\\sqrt{2}}(|00\\ldots 0\\rangle + |11\\ldots 1\\rangle).\n",
    "\\end{equation*}\n",
    "\n",
    "Use what you've learned so far and try to implement a circuit that creates a _four qubit_ GHZ state. There is are two tips below, in case you struggle with the implementation.\n",
    "\n",
    "\n",
    "<details>\n",
    "    <summary><b>Click here for the tips</b></summary>\n",
    "    <ul>\n",
    "        <li>You need to create a new device with four wires.</li>\n",
    "        <li>You need a total of four gates. One <i>Hadamard gate</i> and three <i>CNOT gates</i></li>\n",
    "    </ul>\n",
    "</details>"
   ]
  },
  {
   "cell_type": "markdown",
   "id": "63a76acb",
   "metadata": {},
   "source": [
    "## Simon's Algorithm\n",
    "\n",
    "Simon's algorithm was one of the first few algorithms that demonstrated an advantage of quantum computers over classical computers. The algorithm was discovered and described in what still can be considered the very early days of quantum computing by Daniel R. Simon in 1997 [1]. The problem it solves, which we will get to momentarily, may seem very artificial at first glance, but it is in fact a version of finding the period of a function. Conceptually it informed Shor's algorithm [2], which efficiently solves factoring and the discrete logarithm problem on a quantum computer - many common asymmetric cryptography we use today relies on these problems being hard to solve (Don't worry though, current quantum computers aren't nearly large enough to break keys of common lengths and by the time they are, we will have quantum hard cryptography as default).\n",
    "\n",
    "Before we dive in, if you want to learn a bit about the history of early quantum computing, Simon's problem, Shor's algorithm and more, [here](https://www.youtube.com/watch?v=6qD9XElTpCE) is a great video with Peter Shor telling the story from his perspective."
   ]
  },
  {
   "cell_type": "markdown",
   "id": "ac45dcdd",
   "metadata": {},
   "source": [
    "### The Problem\n",
    "\n",
    "The problem we are trying to solve is the following: We are given a function $f$ that takes as input a bit-string of length $n$ and returns a bit-string of length $n$. We furthermore know that the function will have either of the following properties:\n",
    "\n",
    "* $f$ is **one-to-one**, that is, for _every_ two possible inputs $x$ and $y$ we have $f(x) \\neq f(y)$\n",
    "* $f$ is **two-to-one**, that is, for _every_ possible input $x$, there is _exactly one_ other possible input $y\\neq x$, such that $f(x) = f(y)$. \n",
    "\n",
    "In case we have $f(x)=f(y)$ for two inputs $x$ and $y$ and hence a two-to-one function $f$, there is a single unique _secret_ bit-string $s$, such that\n",
    "\n",
    "\\begin{equation*}\n",
    "    x\\oplus y = s.\n",
    "\\end{equation*}\n",
    "\n",
    "$\\oplus$ is the bitwise exclusive-or (XOR), you may know from classical logic circuits. For each bit on both operands, the corresponding bit in the result is set to $1$ if and only if both input bits are different, otherwise it is set to $0$. For example:\n",
    "\n",
    "\\begin{align*}\n",
    "        &\\quad 01101001 \\\\\n",
    " \\oplus &\\quad 10111100 \\\\\n",
    " \\hline\n",
    "   =     &\\quad 11010101\n",
    "\\end{align*}"
   ]
  },
  {
   "cell_type": "markdown",
   "id": "95fee13c",
   "metadata": {},
   "source": [
    "In case $f$ is a one-to-one function, $s=000\\ldots$. Now here is the problem: Given such a function $f$ as **black-box** or **oracle**, meaning we know nothing of its internals and may only call it as often as we need with any input, how fast can we determine if $f$ is one-to-one or two-to-one? This problem is indeed equivalent to finding the secret bit-string $s$."
   ]
  },
  {
   "cell_type": "markdown",
   "id": "22eca3bf",
   "metadata": {},
   "source": [
    "### The Classical Solution\n",
    "\n",
    "Solving this problem classically is quite straightforward:\n",
    "\n",
    "* Call $f$ with half of the possible inputs and then one more.\n",
    "* If all return values of $f$ were different, we know the function is one-to-one and $s=000\\ldots$.\n",
    "* If the function is two-to-one, we _must_ have found at least one pair of possible inputs $x,y$ that produce an equal return value. In that case we can compute $s=x\\oplus y$.\n",
    "\n",
    "Given that there are $2^n$ possible bit-strings of length $n$, we therefore have to call $f$ in the worst-case $2^{n-1}+1$ times. This is always the case for a one-to-one function, for a two-to-one function we might find a pair with equal return value earlier, but there is no guarantee for that.\n",
    "\n",
    "There are some clever improvements for this procedure, which are beyond the scope of this workshop, but in general the _complexity_ to solve this problem is _exponential_ in $n$, the lengths of the input to $f$."
   ]
  },
  {
   "cell_type": "markdown",
   "id": "ac57eae4",
   "metadata": {},
   "source": [
    "### Quantum Oracles\n",
    "\n",
    "In order to formulate a quantum circuit to solve this problem, we have to implement the black-box function $f$ as a unitary operation. Before we can do that, it is helpful to introduce the term _quantum register_. A quantum register is simply a collection of a number of qubits, that we _logical_ group together when describing an algorithm, as they serve a common purpose. So for all the circuits we have looked at so far, we simply had a single quantum register of qubits.\n",
    "\n",
    "In order to implement $f$ on a quantum computer, we need two registers. Assume $f$ takes as input a bit-string of length $n$. We express $f$ as unitary, such that it performs the following transformation:\n",
    "\n",
    "\\begin{equation*}\n",
    "    |x\\rangle|a\\rangle = |x\\rangle|a\\oplus f(x)\\rangle.\n",
    "\\end{equation*}\n",
    "\n",
    "$|x\\rangle$ is the input register of $n$ qubits and $|a\\rangle$ the _ancilla_ register, also with $n$ qubits. For the following discussion $|a\\rangle$ will always start in the intial state $|0\\rangle^{\\otimes n} = |0\\rangle \\otimes |0\\rangle \\otimes \\cdots \\otimes |0\\rangle$, so we can simplify this to:\n",
    "\n",
    "\\begin{equation*}\n",
    "    |x\\rangle|0\\rangle^{\\otimes n} = |x\\rangle|f(x)\\rangle.\n",
    "\\end{equation*}"
   ]
  },
  {
   "cell_type": "markdown",
   "id": "2d64c3a9",
   "metadata": {},
   "source": [
    "Let's make an example. Let's assume we have a function $f_1$, that takes a bit-string of length $2$ as input and returns a bit-string of the same length. Since we only have four possible inputs, we can describe the function as a table:\n",
    "\n",
    "|$x$  |$f_1(x)$|\n",
    "|:---:|:-----:|\n",
    "|$00$ |$10$   |\n",
    "|$01$ |$01$   |\n",
    "|$10$ |$10$   |\n",
    "|$11$ |$01$   |"
   ]
  },
  {
   "cell_type": "markdown",
   "id": "f908ec9c",
   "metadata": {},
   "source": [
    "For our specific problem (finding $s$), it suffices to create an unitary oracle, that exhibits the same secret bit-string as our function. For $f_1$ that is $s = 10$, since\n",
    "\n",
    "\\begin{align*}\n",
    "    00 \\oplus 10 &= 10 \\\\\n",
    "    01 \\oplus 11 &= 10\n",
    "\\end{align*}"
   ]
  },
  {
   "cell_type": "markdown",
   "id": "7f7857e2",
   "metadata": {},
   "source": [
    "The procedure for creating such an oracle for Simon's algorithm is fortunately pretty simple:\n",
    "\n",
    "1. Create a CNOT gate from each input qubit to the corresponding ancilla qubit\n",
    "2. Find the index $i$ of the first non-zero bit in $s$\n",
    "3. Create a CNOT gate from the input qubit $i$ to each ancilla qubit $j$, where $s_j = 1$.\n",
    "\n",
    "For simplicity, we will read bit-string from right to left to save some extra code later. The results will be exactly the same, as long as you stick to one convention."
   ]
  },
  {
   "cell_type": "markdown",
   "id": "193f4b8b",
   "metadata": {},
   "source": [
    "Let's implement the oracle. First a device with four qubits, since our input has length $n=2$."
   ]
  },
  {
   "cell_type": "code",
   "execution_count": 17,
   "id": "dfdef55d",
   "metadata": {},
   "outputs": [],
   "source": [
    "device = qml.device(\"default.qubit\", wires=4, shots=1000)"
   ]
  },
  {
   "cell_type": "markdown",
   "id": "6cca6210",
   "metadata": {},
   "source": [
    "The oracle as function, that we can use inside any circuit:"
   ]
  },
  {
   "cell_type": "code",
   "execution_count": 18,
   "id": "e8ef3cd2",
   "metadata": {},
   "outputs": [],
   "source": [
    "def f1_oracle():\n",
    "    # Step 1 of the procedure described above:\n",
    "    qml.CNOT(wires=[0, 2])\n",
    "    qml.CNOT(wires=[1, 3])\n",
    "    \n",
    "    # The only bit in s=10 that is `1` has index 0. So we need one extra CNOT from\n",
    "    # the first input qubit to the first ancilla qubit\n",
    "    qml.CNOT(wires=[0, 2])"
   ]
  },
  {
   "cell_type": "markdown",
   "id": "71e8dcca",
   "metadata": {},
   "source": [
    "In order to draw it, we need a \"scratch\" circuit with a device and measurements:"
   ]
  },
  {
   "cell_type": "code",
   "execution_count": 19,
   "id": "0a7f6ec9",
   "metadata": {},
   "outputs": [],
   "source": [
    "@qml.qnode(device)\n",
    "def scratch_circuit():\n",
    "    f1_oracle()\n",
    "    return qml.sample(wires=[0,1,2,3])"
   ]
  },
  {
   "cell_type": "code",
   "execution_count": 20,
   "id": "415a8f3c",
   "metadata": {},
   "outputs": [
    {
     "data": {
      "text/plain": [
       "(<Figure size 600x500 with 1 Axes>, <Axes:>)"
      ]
     },
     "execution_count": 20,
     "metadata": {},
     "output_type": "execute_result"
    },
    {
     "data": {
      "image/png": "[encoded data removed]",
      "text/plain": [
       "<Figure size 600x500 with 1 Axes>"
      ]
     },
     "metadata": {},
     "output_type": "display_data"
    }
   ],
   "source": [
    "qml.draw_mpl(scratch_circuit)()"
   ]
  },
  {
   "cell_type": "markdown",
   "id": "c1aba840",
   "metadata": {},
   "source": [
    "#### Exercise\n",
    "\n",
    "Implement a quantum circuit, that takes a bit-string such as `'10'` as input and evaluates the oracle implemented above. Test the circuit for all four possible inputs and observe the results. Convince yourself, that the computed function has the same periodicity and \"secret\" $s$ as $f_1$."
   ]
  },
  {
   "cell_type": "markdown",
   "id": "3f414376",
   "metadata": {},
   "source": [
    "### Simon's Algorithm\n",
    "\n",
    "Given an oracle such as the one described above, Simon's algorithm to find $s$ does the following:\n",
    "\n",
    "1. Put all input qubits into superposition by applying a Hadamard gate to them.\n",
    "2. Apply the oracle to the input and ancilla qubits.\n",
    "3. Apply Hadamard gates to all input qubits.\n",
    "4. Measure the **input** qubits.\n",
    "\n",
    "The result for a single shot of this execution will be a bit-string $z$ that has properties that will help us to derive $s$ later. Let's go through these steps one by one and see what happens, before we get to that."
   ]
  },
  {
   "cell_type": "markdown",
   "id": "617f4eff",
   "metadata": {},
   "source": [
    "#### Step 0:\n",
    "\n",
    "Before we start, all $2*n$ qubits of the the input and ancilla register will be in state $|0\\rangle$, so we have:\n",
    "\n",
    "\\begin{equation*}\n",
    "    |\\psi_0\\rangle = |0\\rangle^{\\otimes n}|0\\rangle^{\\otimes n}.\n",
    "\\end{equation*}"
   ]
  },
  {
   "cell_type": "markdown",
   "id": "8d4e8834",
   "metadata": {},
   "source": [
    "#### Step 1:\n",
    "\n",
    "We apply a Hadamard gate to each of the input qubits. We therefore create a superposition of all possible $2^n$ basis states in the input register, with an amplitude of $\\frac{1}{\\sqrt{2^n}}$ for each:\n",
    "\n",
    "\\begin{equation*}\n",
    "    |\\text{input}\\rangle = \\frac{1}{\\sqrt{2^n}} (|00\\ldots 00\\rangle + |00\\ldots 01\\rangle + \\cdots \n",
    "                           + |11\\ldots 11\\rangle).\n",
    "\\end{equation*}\n",
    "\n",
    "We can write this very compactly together with the ancilla register as:\n",
    "\n",
    "\\begin{align*}\n",
    "    |\\psi_1\\rangle &= \\hat{H}^{\\otimes n}|0\\rangle^{\\otimes n}|0\\rangle^{\\otimes n} \\\\\n",
    "                   &= \\frac{1}{\\sqrt{2^n}} \\sum_{x\\in\\{0,1\\}^n}|x\\rangle|0\\rangle^{\\otimes n}.\n",
    "\\end{align*}"
   ]
  },
  {
   "cell_type": "markdown",
   "id": "3dcf582d",
   "metadata": {},
   "source": [
    "#### Step 2:\n",
    "\n",
    "Now we apply the oracle $f$ to all qubits. The oracle leaves the input register unchanged and computes the value of $f$ on the state in the input register:\n",
    "\n",
    "\\begin{equation*}\n",
    "    |\\psi_2\\rangle = \\frac{1}{\\sqrt{2^n}} \\sum_{x\\in\\{0,1\\}^n}|x\\rangle|f(x)\\rangle.\n",
    "\\end{equation*}\n",
    "\n",
    "Let's discuss, what we have achieved here. If you look at the state $|\\psi_2\\rangle$ you'll find, that it is a superposition over all possible basis states, where any possible input $x$ is in the input register and the corresponding function value $f(x)$ is in the ancilla register. \n",
    "\n",
    "**Most important of all notes:** Computations such as the one above regularly lead to the **false** claim, that quantum computers work by \"Computing each possible output at once\" or similar. In fact, the superposition above contains each input-output combination of $f$, but what was to happen if we were to measure all qubits in this state? We would get _exactly_ one random input $x$ and its corresponding output value $f(x)$ with equal probability for all $2^n$ possible $x$. So running the circuit once, gives you exactly one (random) result. If you wanted all of them, you would have to run the circuit _at least_ $2^n$ times. Which is exactly what you had to do on a classical computer.\n",
    "\n",
    "Keep that in mind and let's move on."
   ]
  },
  {
   "cell_type": "markdown",
   "id": "bd9c76a9",
   "metadata": {},
   "source": [
    "#### Step 3:\n",
    "\n",
    "If we were to measure the ancilla register now, we'd get any value $f(x)$ with equal probability. After that, the state of the input register would be:\n",
    "\n",
    "\\begin{equation*}\n",
    "    |\\phi\\rangle = \\frac{1}{\\sqrt{2}}(|x\\rangle + |y\\rangle).\n",
    "\\end{equation*}\n",
    "\n",
    "Where in case of a on-to-one function $f$ we'd have $x=y$ and in case of a two-to-one function it holds $f(x)=f(y)$ and hence:\n",
    "\n",
    "\\begin{equation*}\n",
    "    x = y \\oplus s.\n",
    "\\end{equation*}\n",
    "\n",
    "We will not measure the ancilla register, since we don't care about some $f(x)$ and continue the discussion from $|\\phi\\rangle$ in the input register.\n",
    "\n",
    "As last step before the measurement, we apply a Hadamard gate to each qubit of $\\phi$ which leads to the state:\n",
    "\n",
    "\\begin{equation*}\n",
    "    |\\psi_3 = \\frac{1}{\\sqrt{2+1}}\\sum_{z\\in\\{0,1\\}^n}(a+b)|z\\rangle\n",
    "\\end{equation*}\n",
    "\n",
    "with\n",
    "\n",
    "\\begin{align*}\n",
    "    a &= (-1)^{x\\cdot z} \\\\\n",
    "    b &= (-1)^{y\\cdot z}.\n",
    "\\end{align*}\n",
    "\n",
    "The term $x\\cdot z$ means the inner product of the bit-strings $x$ and $z$ here. In state $|\\psi_3\\rangle$ only basis states $|z\\rangle$ have an amplitude that is non-zero, if $a=b$, since $a$ and $b$ can only take values $-1$ and $1$, consequently we have for every possible measurement results:\n",
    "\n",
    "\\begin{align*}\n",
    "    a &= b \\\\\n",
    "    (-1)^{x\\cdot z} &= (-1)^{y\\cdot z} \\\\\n",
    "    x\\cdot z &= y\\cdot z \\\\\n",
    "    (y\\oplus s) \\cdot z &= y\\cdot z \\\\\n",
    "    y\\cdot z \\oplus s\\cdot z &= y\\cdot z \\\\\n",
    "    s\\cdot z &= 0.\n",
    "\\end{align*}"
   ]
  },
  {
   "cell_type": "markdown",
   "id": "52470685",
   "metadata": {},
   "source": [
    "#### Step 4:\n",
    "\n",
    "Time to measure the input register. We know that the state $|z\\rangle$ we find the qubits in, corresponds to a bit-string for which:\n",
    "\n",
    "\\begin{equation*}\n",
    "    s\\cdot z = 0.\n",
    "\\end{equation*}\n",
    "\n",
    "So how do we get $s$ from this? We run the circuit multiple times, till we have $n$ different bit-strings $z_i$, such that we can classically solve the system of linear equations:\n",
    "\n",
    "\\begin{align*}\n",
    "    s\\cdot z_1 &= 0 \\\\\n",
    "    s\\cdot z_2 &= 0 \\\\\n",
    "               &\\vdots \\\\\n",
    "    s\\cdot z_n &= 0 \n",
    "\\end{align*}"
   ]
  },
  {
   "cell_type": "markdown",
   "id": "e1b6059a",
   "metadata": {},
   "source": [
    "This always has the trivial solution $s=00\\ldots 0$ and if this is the only solution, we know $f$ is one-to-one. If it has another solution $s\\neq 00\\ldots 0$, then $f$ is two-to-one and we have our secret $s$."
   ]
  },
  {
   "cell_type": "markdown",
   "id": "1daf8707",
   "metadata": {},
   "source": [
    "### Complexity\n",
    "\n",
    "As we observed earlier, the classical solution to finding $s$ scales exponential in the lengths of the input to $f$. How does the quantum algorithm do?\n",
    "\n",
    "* We need to run the circuit at least $n$ times to get $n$ different $z_i$, likely a bit more often, but in general this will grow _linearly_ in $n$.\n",
    "* Solving the system of linear equation afterwards, can be done in polynomial time on a classical computer, the complexity grows with approximately $n^3$.\n",
    "\n",
    "So in total, the quantum algorithm with classical post-processing is of polynomial complexity, whereas the classical algorithm is of exponential complexity!"
   ]
  },
  {
   "cell_type": "markdown",
   "id": "1efbed93",
   "metadata": {},
   "source": [
    "### Implementation\n",
    "\n",
    "The implementation for the oracle created above, should now be fairly straightforward. First we need a device with $4$ qubits. The tricky part is to decide on the number of shots, for $n=2$ chances are relatively high to get the same output multiple times in a row. We go with $4$ shots here, if that doesn't suffice, we simply run the circuit again."
   ]
  },
  {
   "cell_type": "code",
   "execution_count": 21,
   "id": "2f39d348",
   "metadata": {},
   "outputs": [],
   "source": [
    "device = qml.device(\"default.qubit\", wires=4, shots=4)"
   ]
  },
  {
   "cell_type": "markdown",
   "id": "0d1a1a88",
   "metadata": {},
   "source": [
    "Implementation of the circuit, note that we only measure the input register."
   ]
  },
  {
   "cell_type": "code",
   "execution_count": 22,
   "id": "57981637",
   "metadata": {},
   "outputs": [],
   "source": [
    "@qml.qnode(device)\n",
    "def simon_f1():\n",
    "    qml.Hadamard(wires=0)\n",
    "    qml.Hadamard(wires=1)\n",
    "    \n",
    "    f1_oracle()\n",
    "    \n",
    "    qml.Hadamard(wires=0)\n",
    "    qml.Hadamard(wires=1)\n",
    "    \n",
    "    return qml.sample(wires=[0, 1])"
   ]
  },
  {
   "cell_type": "code",
   "execution_count": 23,
   "id": "01e25145",
   "metadata": {},
   "outputs": [
    {
     "data": {
      "text/plain": [
       "(<Figure size 800x500 with 1 Axes>, <Axes:>)"
      ]
     },
     "execution_count": 23,
     "metadata": {},
     "output_type": "execute_result"
    },
    {
     "data": {
      "image/png": "[encoded data removed]",
      "text/plain": [
       "<Figure size 800x500 with 1 Axes>"
      ]
     },
     "metadata": {},
     "output_type": "display_data"
    }
   ],
   "source": [
    "qml.draw_mpl(simon_f1)()"
   ]
  },
  {
   "cell_type": "markdown",
   "id": "973eae16",
   "metadata": {},
   "source": [
    "We now run the circuit for $4$ shots and filter out all duplicate results:"
   ]
  },
  {
   "cell_type": "code",
   "execution_count": 24,
   "id": "71e5d0d4",
   "metadata": {},
   "outputs": [],
   "source": [
    "samples = simon_f1()\n",
    "zs = np.unique(samples, axis=0)"
   ]
  },
  {
   "cell_type": "markdown",
   "id": "54b8679d",
   "metadata": {},
   "source": [
    "Let's check if we have enough samples to proceed, if not, simply run the previous cell again:"
   ]
  },
  {
   "cell_type": "code",
   "execution_count": 25,
   "id": "978baa56",
   "metadata": {},
   "outputs": [
    {
     "name": "stdout",
     "output_type": "stream",
     "text": [
      "We got enough samples, proceed.\n"
     ]
    }
   ],
   "source": [
    "if zs.shape[0] < 2:\n",
    "    print(\"Not enough samples, run again!\")\n",
    "else:\n",
    "    print(\"We got enough samples, proceed.\")"
   ]
  },
  {
   "cell_type": "markdown",
   "id": "e62e71e2",
   "metadata": {},
   "source": [
    "we take the first two samples and have a look at the corresponding bitstrings:"
   ]
  },
  {
   "cell_type": "code",
   "execution_count": 26,
   "id": "b6e9c3da",
   "metadata": {},
   "outputs": [
    {
     "name": "stdout",
     "output_type": "stream",
     "text": [
      "z_1 = 00\n",
      "z_2 = 01\n"
     ]
    }
   ],
   "source": [
    "for idx, z in enumerate(zs[:2]):\n",
    "    bitstring = ''.join(z.astype(int).astype(str))\n",
    "    \n",
    "    print(f\"z_{idx+1} = {bitstring}\")"
   ]
  },
  {
   "cell_type": "markdown",
   "id": "2e97e00f",
   "metadata": {},
   "source": [
    "Using these two $z_i$, we can write the system of linear equations:\n",
    "\n",
    "\\begin{align*}\n",
    "    s\\cdot 00 &= 0 \\\\\n",
    "    s\\cdot 01 &= 0.\n",
    "\\end{align*}\n",
    "\n",
    "If we expand the inner product, we get for our secret $s=s_1s_2$:\n",
    "\n",
    "\\begin{align*}\n",
    "    0\\cdot s_1 + 0\\cdot s_2 &= 0 \\\\\n",
    "    0\\cdot s_1 + 1\\cdot s_2 &= 0.\n",
    "\\end{align*}"
   ]
  },
  {
   "cell_type": "markdown",
   "id": "6a19b770",
   "metadata": {},
   "source": [
    "This has obviously the trivial solution $s_1=s_2=0$ but also $s_1=1$ and $s_2=0$. Therefore we confirmed our function is two-to-one and $s=10$."
   ]
  },
  {
   "cell_type": "markdown",
   "id": "b8006be0",
   "metadata": {},
   "source": [
    "#### Exercise\n",
    "\n",
    "Given the following function $g$ on bit-strings of lengths $n$:\n",
    "\n",
    "|$x$   |$g(x)$ |\n",
    "|:----:|:-----:|\n",
    "|$000$ |$001$  |\n",
    "|$001$ |$111$  |\n",
    "|$010$ |$000$  |\n",
    "|$011$ |$100$  |\n",
    "|$100$ |$111$  |\n",
    "|$101$ |$001$  |\n",
    "|$110$ |$100$  |\n",
    "|$111$ |$000$  |\n",
    "\n",
    "* Compute $s$ for $g$.\n",
    "* Implement the oracle for $s$.\n",
    "* Validate your oracle.\n",
    "* Implement Simon's algorithm for $g$.\n",
    "* Run the circuit a sufficient number of times to retrieve enough $z_i$.\n",
    "* Solve the resulting system of linear equations and see if you find the same $s$ you started with."
   ]
  },
  {
   "cell_type": "markdown",
   "id": "89e51520",
   "metadata": {},
   "source": [
    "## References\n",
    "\n",
    "* [1] _On the Power of Quantum Computation_, Daniel R. Simon, SIAM Journal on Computing (1997)\n",
    "* [2] _Polynomial-Time Algorithms for Prime Factorization and Discrete Logarithms on a Quantum Computer_, Peter W. Shor, SIAM Journal on Computing (1997)"
   ]
  }
 ],
 "metadata": {
  "kernelspec": {
   "display_name": "Python 3 (ipykernel)",
   "language": "python",
   "name": "python3"
  },
  "language_info": {
   "codemirror_mode": {
    "name": "ipython",
    "version": 3
   },
   "file_extension": ".py",
   "mimetype": "text/x-python",
   "name": "python",
   "nbconvert_exporter": "python",
   "pygments_lexer": "ipython3",
   "version": "3.9.16"
  }
 },
 "nbformat": 4,
 "nbformat_minor": 5
}
