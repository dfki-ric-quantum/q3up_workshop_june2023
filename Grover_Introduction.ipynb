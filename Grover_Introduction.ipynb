{
 "cells": [
  {
   "cell_type": "markdown",
   "id": "e97a81b4-15ea-4770-8905-f7c960179445",
   "metadata": {},
   "source": [
    "# Grover Algorithm - Introduction"
   ]
  },
  {
   "cell_type": "markdown",
   "id": "7027b9e4-ff05-4398-ad4d-6549a0e11416",
   "metadata": {},
   "source": [
    "The [Grover algorithm](https://en.wikipedia.org/wiki/Grover%27s_algorithm?useskin=vector) is one of the most famous quantum algorithms. The algorithm got its name from Lov K. Grover, who wrote the [original paper](https://arxiv.org/abs/quant-ph/9605043) introducing this algorithm in 1996.\n",
    "\n",
    "Grover's algorithm allows for searching unstructured datasets for solutions to a black box function.  The algorithm provides a quadratic speed-up over the best possible classical algorithm in terms of black box queries.\n",
    "\n",
    "For further reading and watching, we recommend the [Qiskit tutorial](https://learn.qiskit.org/course/ch-algorithms/grovers-algorithm), this short [youtube video](https://www.youtube.com/watch?v=KeJqcnpPluc) introducing Grover's algorithm and the [Xanadu Codebook article](https://codebook.xanadu.ai/G.1).\n",
    "\n",
    "This notebook teaches how to implement Grover's algorithm with [Pennylane](https://pennylane.ai/). If you get stuck at any point you can peek at the solutions provided in the end of this notebook, so that you can proceed with the subsequent tasks."
   ]
  },
  {
   "cell_type": "markdown",
   "id": "ab14d7ea-5965-4b58-9c33-bd4a7618c278",
   "metadata": {},
   "source": [
    "## The Problem\n",
    "\n",
    "As mentioned in the introduction, Grover's algorithm is able to search for a solution in unstructured datasets. But what does this mean? Let's consider an example:\n",
    "\n",
    "*Two people are playing a game. Person A thinks of an integer number between 1 and 100. Person B has to guess the number. But person B is only allowed to ask for a single number at a time and person A will only answer with \"Yes, this is the number\" or \"No, this is not the number\".*\n",
    "\n",
    "The dataset in this example are all integer numbers 1-100. While in general these numbers of course have a structure, there is no relevant structure in the context of this game. By eliminating one number from the possible solutions (with a guess from B), no new information about the other numbers is gained. \n",
    "\n",
    "(**Side Note**: The situation would be different if person B would be allowed to ask e.g. \"Is the number smaller than 40?\". Then the order of the natural numbers would give a structure to the problem which could be exploited by the search algorithm.)\n",
    "\n",
    "This is an example of a problem where finding the solution is hard but verifying a solution is easy (one just has to guess the correct number and A will confirm the solution). In this example person A plays the role of the back box or oracle function. In the classical case, B will need an average of $100/2=50$ guesses to hit the correct number. With Grover's algorithm (provided that the oracle can be formulated as a quantum operation) the correct number can be guessed *with high probability* in only about $\\sqrt{100} = 10$ tries.\n"
   ]
  },
  {
   "cell_type": "markdown",
   "id": "daadd579-6f45-47d8-9e3f-b12533daa555",
   "metadata": {},
   "source": [
    "## Algorithm Structure\n",
    "\n",
    "The Grover algorithm consists of three main parts:\n",
    "\n",
    "1. **State preparation**\n",
    "The initial state of the quantum register is prepared as a superposition of all possible solutions to the problem with equal weights. All solutions are equally likely to be measured. We will call this superposition state $|\\psi\\rangle$.\n",
    "\n",
    "2. **Oracle function**\n",
    "The oracle function is an operator which assigns a *negative phase* to the solution state(s) and leaves the other states untouched. As the phase is not physically measurable, all solutions are still equally likely. We will call the (unknown) solution state $|s\\rangle$.\n",
    "\n",
    "3. **Diffusion operator**\n",
    "The diffusion operator amplifies the amplitude(s) of the solution state(s) by reflecting the state around $|\\psi\\rangle$. So it leaves the *uniform superposition part* of the state untouched and flips the sign of the amplitude of \"everything else\"."
   ]
  },
  {
   "cell_type": "markdown",
   "id": "e47af88e-cb11-4bfd-8c47-91165ad5ca9f",
   "metadata": {
    "tags": []
   },
   "source": [
    "## Two Qubit Example Implementation"
   ]
  },
  {
   "cell_type": "code",
   "execution_count": null,
   "id": "33ad7634-7869-42e9-a016-35bd166f249f",
   "metadata": {},
   "outputs": [],
   "source": [
    "#imports\n",
    "import numpy as np\n",
    "import pennylane as qml\n",
    "from workshop.utils import sample_histogram"
   ]
  },
  {
   "cell_type": "markdown",
   "id": "4f4581e9-e10e-442d-81ec-f8845e22e600",
   "metadata": {},
   "source": [
    "2 qubits have a $2^2 = 4$ dimensional hilbert space. So, we can play the guessing game with the numbers 1-4. We map each number to a qubit state:\n",
    "- $1 \\rightarrow |00\\rangle$\n",
    "- $2 \\rightarrow |01\\rangle$\n",
    "- $3 \\rightarrow |10\\rangle$\n",
    "- $4 \\rightarrow |11\\rangle$\n",
    "\n",
    "We will assume that the solution is the number 4, i.e. the quantum state $|11\\rangle$."
   ]
  },
  {
   "cell_type": "markdown",
   "id": "83be8d86-7e6d-4ac5-8b20-10d7e83721a4",
   "metadata": {},
   "source": [
    "First, we initialize the circuit device with 2 qubits:"
   ]
  },
  {
   "cell_type": "code",
   "execution_count": null,
   "id": "47ead85e-7006-4a42-99f1-3505ec9aaf8c",
   "metadata": {},
   "outputs": [],
   "source": [
    "device = qml.device(\"default.qubit\", wires=2, shots=1000)"
   ]
  },
  {
   "cell_type": "markdown",
   "id": "5f4b5a99-5c4e-4bc5-9592-980dee4256ba",
   "metadata": {
    "tags": []
   },
   "source": [
    "### State preparation"
   ]
  },
  {
   "cell_type": "markdown",
   "id": "baf8865a-f186-4425-9634-376bd3758dd4",
   "metadata": {},
   "source": [
    "First, we want to prepare the 2-qubit quantum state in a way that all solutions are equally likely to be measures. \n",
    "\n",
    "**Task 1.1**: Fill in the code for the state preparation function in the cell below.\n",
    "\n",
    "<details>\n",
    "<summary>Click here for a hint</summary>\n",
    "A superposition of all states with equal likelyhood can be created by applying Hadamard gates to all qubits.\n",
    "</details>"
   ]
  },
  {
   "cell_type": "code",
   "execution_count": null,
   "id": "8693e7fb-6d93-49e4-95a9-748955282d19",
   "metadata": {},
   "outputs": [],
   "source": [
    "def state_preparation_gates():\n",
    "    ################\n",
    "    # Your Code Here\n",
    "    ################\n"
   ]
  },
  {
   "cell_type": "code",
   "execution_count": null,
   "id": "580242ae-6856-44f9-9268-b6607b9a0831",
   "metadata": {},
   "outputs": [],
   "source": [
    "@qml.qnode(device)\n",
    "def state_preparation_circuit():\n",
    "    state_preparation_gates()\n",
    "    return qml.sample()"
   ]
  },
  {
   "cell_type": "code",
   "execution_count": null,
   "id": "57634bf2-bbd6-458c-9ea8-180585132838",
   "metadata": {},
   "outputs": [],
   "source": [
    "qml.draw_mpl(state_preparation_circuit)()"
   ]
  },
  {
   "cell_type": "code",
   "execution_count": null,
   "id": "c3a347c1-5aba-4971-ad91-c76af49dca19",
   "metadata": {},
   "outputs": [],
   "source": [
    "samples = state_preparation_circuit()\n",
    "sample_histogram(samples)"
   ]
  },
  {
   "cell_type": "markdown",
   "id": "d7792c49-412b-4db0-900e-dcfebfe0dc36",
   "metadata": {},
   "source": [
    "The histogram shows that all states are sampled approximately equally often."
   ]
  },
  {
   "cell_type": "markdown",
   "id": "70edae22-f064-4cb7-8308-55a600507a6b",
   "metadata": {},
   "source": [
    "### Grover Oracle"
   ]
  },
  {
   "cell_type": "markdown",
   "id": "2f9be750-57e4-464c-8ecf-f3b306a29cf1",
   "metadata": {},
   "source": [
    "As the oracle operator $\\hat{U}_f$ we need an operator which does nothing to $|00\\rangle, |01\\rangle, |10\\rangle$ and flips the sign of the amplitude of $|11\\rangle$, i.e.\n",
    "\n",
    "- $U_f |00\\rangle = |00\\rangle$\n",
    "- $U_f |01\\rangle = |01\\rangle$\n",
    "- $U_f |10\\rangle = |10\\rangle$\n",
    "- $U_f |11\\rangle = -|11\\rangle$\n",
    "\n",
    "An oracle function fulfilling these criteria is\n",
    "\n",
    "$$ \\hat{U}_f = I - 2 |11\\rangle \\langle 11| $$\n",
    "\n",
    "**Task 1.2**: \n",
    "- (a) Verify that the oracle acts correctly on the 4 states.\n",
    "- (b) Write the oracle in matrix notation\n",
    "\n",
    "<details>\n",
    "<summary>Click here for a hint for (a)</summary>\n",
    "Remember that the basis states are orthogonal (i.e. $\\langle X|Y\\rangle = 0$ for $X \\neq Y$) and that quantum states are normalized (i.e. $\\langle X|X\\rangle = 1$)\n",
    "</details>\n",
    "\n",
    "<details>\n",
    "<summary>Click here for a hint for (b)</summary>\n",
    "Remember that $|11\\rangle = \\begin{bmatrix} 0 \\\\ 0 \\\\ 0 \\\\ 1 \\end{bmatrix}$ and that $\\langle 11| = \\begin{bmatrix} 0,  0,  0,  1 \\end{bmatrix}$\n",
    "</details>"
   ]
  },
  {
   "cell_type": "markdown",
   "id": "6b38dc7c-86db-4c59-923e-6a1d8d9c6ab0",
   "metadata": {},
   "source": [
    "Compare the matrix representation of the oracle to the matrix representation of the [basic quantum gates](https://en.wikipedia.org/wiki/Quantum_logic_gate?useskin=vector) and find the correct representation for $\\hat{U}_f$.\n",
    "\n",
    "<details>\n",
    "<summary>Click here for a hint</summary>\n",
    "$\\hat{U}_f$ can be represented with a single controlled Z (CZ gate).\n",
    "</details>"
   ]
  },
  {
   "cell_type": "markdown",
   "id": "4f86a7d3-cf74-4521-881d-6a3f79535528",
   "metadata": {},
   "source": [
    "\n",
    "**Task 1.3**: Implement the oracle in the cell below"
   ]
  },
  {
   "cell_type": "code",
   "execution_count": null,
   "id": "ff8b6ecc-1c78-4124-90a5-e6523268149c",
   "metadata": {},
   "outputs": [],
   "source": [
    "def oracle_gates():\n",
    "    ################\n",
    "    # Your Code Here\n",
    "    ################\n",
    "    "
   ]
  },
  {
   "cell_type": "code",
   "execution_count": null,
   "id": "b2e7df31-4d90-4c20-8109-fe6a9f4caf9f",
   "metadata": {},
   "outputs": [],
   "source": [
    "@qml.qnode(device)\n",
    "def oracle_circuit():\n",
    "    oracle_gates()\n",
    "    return qml.sample()"
   ]
  },
  {
   "cell_type": "code",
   "execution_count": null,
   "id": "35b9b094-fe4b-4478-87a2-fda62f36418a",
   "metadata": {},
   "outputs": [],
   "source": [
    "qml.draw_mpl(oracle_circuit)()"
   ]
  },
  {
   "cell_type": "markdown",
   "id": "9576cf40-1806-4e39-8b8e-74fa72be2be4",
   "metadata": {},
   "source": [
    "**Task 1.4**: Verify that, after this step, all outcomes are still equally likely."
   ]
  },
  {
   "cell_type": "code",
   "execution_count": null,
   "id": "e9c1dee0-de2b-4589-8de4-80f1995a463b",
   "metadata": {},
   "outputs": [],
   "source": [
    "################\n",
    "# Your Code Here\n",
    "################"
   ]
  },
  {
   "cell_type": "markdown",
   "id": "2654ea60-a4e5-4c97-91ac-b79d7e02dd45",
   "metadata": {},
   "source": [
    "### Diffusion operator"
   ]
  },
  {
   "cell_type": "markdown",
   "id": "98b00aeb-8920-41c2-991d-dc06902043f7",
   "metadata": {},
   "source": [
    "For the diffuser, we want to only flip the sign of the portion of the state which is perpendicular to the uniform superposition. The operator for that is\n",
    "\n",
    "$$ \\hat{D} = 2 |\\psi \\rangle \\langle \\psi| - I $$\n",
    "\n",
    "\n",
    "This can be achived in terms of standard gates by the following steps:\n",
    "\n",
    "- 1. Change the basis, so that the superposition state $|\\psi\\rangle$ and three states orthogonal to it are the new basis. We will do a rotation where we rotate $|\\psi\\rangle$ to the basis state $|00\\rangle$. Remember that we started with the basis state $|00\\rangle$ and obtained $|\\psi\\rangle$ by applying a Hadamard gate. So for rotating $|\\psi\\rangle$ to $|00\\rangle$ we only have to invert the Hadamard gate.\n",
    "- 2. flip the phase of all states orthogonal to $|00\\rangle$\n",
    "$$ \\hat{U}_0 \\frac{1}{2}(|00\\rangle + |01\\rangle + |10\\rangle + |11\\rangle) = \\frac{1}{2}(|00\\rangle - |01\\rangle - |10\\rangle - |11\\rangle)$$\n",
    "- 3. rotate back (undo step 1.)\n",
    "\n",
    "**Optional Task**: \n",
    "- (a) Confirm with calculation on gate level that $\\hat{U}_0 = \\hat{CZ}\\,(\\hat{Z} \\otimes \\hat{Z})$ (with $\\hat{CZ}$ being the controlled Z gate) fulfills the equation in step 2.\n",
    "\n",
    "<details>\n",
    "<summary>Click here for a hint</summary>\n",
    "    Remember that $|00\\rangle = |0\\rangle \\otimes |0\\rangle$. The tensor product $\\otimes$ splits the 2 qubit Hilbert space into the two single qubit Hilbert spaces.\n",
    "    For an operator in the form $\\hat{Z} \\otimes \\hat{Z}$, the first operator acts on the first qubit and the second operator acts on the second qubit.\n",
    "    Furthermore, remember $\\hat{Z} |0\\rangle = |0\\rangle$ and $\\hat{Z} |1\\rangle = -|1\\rangle$.\n",
    "</details>"
   ]
  },
  {
   "cell_type": "markdown",
   "id": "3e36faa8-1744-43ee-b17f-a0fc4d4c0649",
   "metadata": {},
   "source": [
    "**Solution**:\n",
    "\\begin{align*}\n",
    "    \\hat{U}_0 \\frac{1}{2}(|00\\rangle + |01\\rangle + |10\\rangle + |11\\rangle) &= \\frac{1}{2} \\left( \\hat{U}_0|00\\rangle + \\hat{U}_0|01\\rangle + \\hat{U}_0|10\\rangle + \\hat{U}_0|11\\rangle\\right)\\\\\n",
    "    &= \\frac{1}{2} \\left( \\hat{CZ}\\,(\\hat{Z} \\otimes \\hat{Z})|00\\rangle + \\hat{CZ}\\,(\\hat{Z} \\otimes \\hat{Z})|01\\rangle + \\hat{CZ}\\,(\\hat{Z} \\otimes \\hat{Z})|10\\rangle + \\hat{CZ}\\,(\\hat{Z} \\otimes \\hat{Z})|11\\rangle\\right)\\\\\n",
    "    &= \\frac{1}{2} \\left( \\hat{CZ}\\,|00\\rangle + \\hat{CZ}\\,(-|01\\rangle) + \\hat{CZ}\\,(-|10\\rangle) + \\hat{CZ}\\,|11\\rangle\\right)\\\\\n",
    "    &= \\frac{1}{2}(|00\\rangle - |01\\rangle - |10\\rangle - |11\\rangle)\n",
    "\\end{align*}"
   ]
  },
  {
   "cell_type": "markdown",
   "id": "a07a5e72-7716-4a80-86a7-e28da0d01c19",
   "metadata": {},
   "source": [
    "**Task 1.5 **: Implement the diffusion operator in the function below\n",
    "\n",
    "<details>\n",
    "<summary>Click here for a hint</summary>\n",
    "    The rotation in step 1. can be achieved ba simply applying Hadamard gates to all qubits. Remember that the effect of an Hadamard gate can be inverted by applying another Hadamard gate. Applying the Hadamard gate in step 1. changes the basis to the uniform superposition state and the states orthogonal to it. The Hadamard gate in step 3. changes the basis back to the original basis.\n",
    "    The full Diffusion operator consists of $\\hat{H}\\hat{U}_0\\hat{H}$, i.e. \n",
    "    \\begin{align*}\n",
    "        (\\hat{H} \\otimes \\hat{H}) \\, \\hat{CZ}\\,(\\hat{Z} \\otimes \\hat{Z})\\, (\\hat{H} \\otimes \\hat{H})\n",
    "    \\end{align*}\n",
    "    Remember to apply the gates in the correct order. the rightmost operators in the formular are applied first.\n",
    "    The operators on the lefthand side of the tensor product $\\otimes$ are applied to the first qubit and the operators on the righthand side to the second qubit. The control qubit of the CZ gat is the first qubit and it acts on the second qubit.\n",
    "</details>"
   ]
  },
  {
   "cell_type": "code",
   "execution_count": null,
   "id": "76765491-70bc-4e33-a50e-b7f47ec27085",
   "metadata": {},
   "outputs": [],
   "source": [
    "def diffusion_gates():\n",
    "    ################\n",
    "    # Your Code Here\n",
    "    ################\n"
   ]
  },
  {
   "cell_type": "code",
   "execution_count": null,
   "id": "ee9eb05a-0187-4999-991e-b688beaa8244",
   "metadata": {},
   "outputs": [],
   "source": [
    "@qml.qnode(device)\n",
    "def diffusion_circuit():\n",
    "    diffusion_gates()\n",
    "    return qml.sample()"
   ]
  },
  {
   "cell_type": "code",
   "execution_count": null,
   "id": "47a04f61-37c1-4b67-9153-cb29f9f11425",
   "metadata": {},
   "outputs": [],
   "source": [
    "qml.draw_mpl(diffusion_circuit)()"
   ]
  },
  {
   "cell_type": "markdown",
   "id": "415556ff-ea48-476c-a83c-13e924e55600",
   "metadata": {},
   "source": [
    "### Putting everything together"
   ]
  },
  {
   "cell_type": "markdown",
   "id": "d35faf89-c08a-4223-93b6-b595b10f9cdf",
   "metadata": {},
   "source": [
    "Finally, we can put all parts together in a single circuit. For obtaining the result we actually only need a single shot on the quantum device. So we define a new single shot quantum device in the next cell."
   ]
  },
  {
   "cell_type": "code",
   "execution_count": null,
   "id": "b4e384f0-87ca-4c6c-ac47-2e5554acd9e3",
   "metadata": {},
   "outputs": [],
   "source": [
    "single_shot_device = qml.device(\"default.qubit\", wires=2, shots=1)"
   ]
  },
  {
   "cell_type": "code",
   "execution_count": null,
   "id": "b33cfc90-4c6f-4011-b57a-69bfca180f01",
   "metadata": {},
   "outputs": [],
   "source": [
    "@qml.qnode(single_shot_device)\n",
    "def grover_circuit():\n",
    "    \n",
    "    state_preparation_gates()\n",
    "    oracle_gates()\n",
    "    diffusion_gates()\n",
    "    \n",
    "    return qml.sample()"
   ]
  },
  {
   "cell_type": "code",
   "execution_count": null,
   "id": "30baece7-ef46-463b-be23-8aaf0e85647f",
   "metadata": {},
   "outputs": [],
   "source": [
    "qml.draw_mpl(grover_circuit)()"
   ]
  },
  {
   "cell_type": "code",
   "execution_count": null,
   "id": "fa972a53-faa9-48ea-95c9-5c3bf7125071",
   "metadata": {},
   "outputs": [],
   "source": [
    "samples = grover_circuit()\n",
    "sample_histogram(np.atleast_2d(samples))"
   ]
  },
  {
   "cell_type": "markdown",
   "id": "ecef149d-e28c-4ff3-9a45-9e1a47391099",
   "metadata": {},
   "source": [
    "If we run the circuit now, we see that the correct solution is almost with probability 100% the result of the measurement. So we can get the result with only a single guess via the oracle function!\n",
    "\n",
    "With larger problem sizes more guesses are needed to reach a high probability. This is being done by repeating grover iterations consisting of the oracle function and the diffusion operation. The speedup stems from the fact that the needed Grover iterations scale only with the square root of $N$. The exact formula for the number of needed guesses in terms of the problem size is discussed in the next excercise notebook."
   ]
  },
  {
   "cell_type": "markdown",
   "id": "e6a5ad25-25cd-4b43-a6a1-6875ac459d2a",
   "metadata": {},
   "source": [
    "## Higher Dimensional Example"
   ]
  },
  {
   "cell_type": "markdown",
   "id": "a106ef1f",
   "metadata": {},
   "source": [
    "For a better understanding of the implementation details of the algorithm, we generalize the implementation from the 2 qubit example to the n-qubit case in the following.\n",
    "\n",
    "**Note**: Only the oracle function (which is solution dependent) generally has to be edited when changing the dimensionality or the solution state.\n",
    "\n",
    "The Hilbert space (state space) of n qubits is $2^n$ dimensional. Hence, for $n=3$ qubits, the guessing game can be played with up to 8 numbers. For $n=4$ with 16 numbers, for $n=5$ with 32 numbers, etc."
   ]
  },
  {
   "cell_type": "code",
   "execution_count": null,
   "id": "d126c9e8-c290-472c-8dbb-60647a33fba2",
   "metadata": {},
   "outputs": [],
   "source": [
    "# define number of qubits and a device for running the circuit\n",
    "n_qubits = 4\n",
    "single_shot_device = qml.device(\"default.qubit\", wires=n_qubits, shots=1)"
   ]
  },
  {
   "cell_type": "markdown",
   "id": "c592f82e-e6c4-43ab-bd65-5db5347db7c3",
   "metadata": {},
   "source": [
    "### State Preparation"
   ]
  },
  {
   "cell_type": "markdown",
   "id": "b7b345b1",
   "metadata": {},
   "source": [
    "**Task 2.1**: Implement the n-qubit state preparation so that all states have equal probability to be measured.\n",
    "\n",
    "<details>\n",
    "<summary>Click here for a hint</summary>\n",
    "A superposition of all states with equal likelihood can be created by applying Hadamard gates to all qubits.\n",
    "</details>"
   ]
  },
  {
   "cell_type": "code",
   "execution_count": null,
   "id": "bbf6d6f4-0b13-4495-b18c-94c0cd2a538d",
   "metadata": {},
   "outputs": [],
   "source": [
    "def state_preparation_gates():\n",
    "    ################\n",
    "    # Your Code Here\n",
    "    ################\n",
    "    "
   ]
  },
  {
   "cell_type": "markdown",
   "id": "4adc9ed4-9e4e-4ade-8daa-f751cad41d4e",
   "metadata": {},
   "source": [
    "### Oracle"
   ]
  },
  {
   "cell_type": "markdown",
   "id": "89335499-bc16-45ca-be3e-6c40b8665332",
   "metadata": {},
   "source": [
    "The implementation of the oracle needs a bit more care. In the 2 qubit case, we derived the oracle circuit from the matrix representation of the operator which is not so difficult to guess ($\\hat{U}_f = I - |solution\\rangle \\langle solution|$). However, the derivation with the matrix representation is a bit cumbersome. But with the knowlege of the functionality of the gates, and a little thinking, we can construct the oracle function for higher dimensions as well.\n",
    "\n",
    "Remember that the oracle flips the sign of the solution state while leaving the other states untouched. Let us say that for 4 qubits we are searching for the solution $|1001\\rangle$ (number 9 in the guessing game).\n",
    "\n",
    "After the state preparation we have the equal probability state\n",
    "\n",
    "\\begin{align*}\n",
    "    |\\psi\\rangle = \\frac{1}{\\sqrt{2^{4}}} \\left( |0000\\rangle + |0001\\rangle + ... + |1111\\rangle \\right)\n",
    "\\end{align*}\n",
    "\n",
    "and now we are looking for an operator $\\hat{U}_f$, for which\n",
    "\n",
    "\\begin{align*}\n",
    "    \\hat{U}_f|1001\\rangle &= -|1001\\rangle \\\\\n",
    "    \\hat{U}_f|x\\rangle &= |x\\rangle \\quad \\text{for} \\quad |x\\rangle \\neq |1001\\rangle\n",
    "\\end{align*}\n",
    "\n",
    "This can be achieved by applying a MultiControlled Z gate to the last qubit. Remember that the Z gate only adds a minus sign to the portion of the state where the qubit it acts on is in state $|1\\rangle$. So if the Z gate is applied to the last qubit, there is no need to check for the state of the last qubit as the Z gate only affects the \"1\" portion anyways ($|1000\\rangle$ will not be changed). So what is needed here is a MultiControlled Z gate which cheks the states of the first three qubits and acts on the fourth.\n",
    "\n",
    "**Task 2.2**: Implement the Oracle for the 4 qubit circuit and solution state $|1001\\rangle$.\n",
    "\n",
    "**Free Hint**: Pennylane only features a [MultiControlledX](https://docs.pennylane.ai/en/stable/code/api/pennylane.MultiControlledX.html) gate (no MultiControlledZ gate). But you can use the fact that $\\hat{H}\\hat{X}\\hat{H} = \\hat{Z}$ (You can verify this easily in the matrix representation)."
   ]
  },
  {
   "cell_type": "code",
   "execution_count": null,
   "id": "5070f07c-d6de-49d6-96b1-d3348c1595ed",
   "metadata": {},
   "outputs": [],
   "source": [
    "def oracle_gates():\n",
    "    ################\n",
    "    # Your Code Here\n",
    "    ################\n",
    "    "
   ]
  },
  {
   "cell_type": "markdown",
   "id": "f31a2ad8-e2fd-410c-a7e9-5c1d75fc2f98",
   "metadata": {},
   "source": [
    "**Note**: As the solution state changes with the dimensionality of the problem, the oracle needs slight modification when the number of qubits changes.\n",
    "\n",
    "**Note**: If you want to act with the Z Gate on a qubit state with a 0 (e.g. if the solution is the $|00..0\\rangle$ state), you have to flip the qubit the gate acts on first with an X gate, then apply the Z gate and afterwards undo the initial flip with another X gate."
   ]
  },
  {
   "cell_type": "markdown",
   "id": "b98e32be-3e6c-4456-b0af-decff36d8050",
   "metadata": {},
   "source": [
    "### Diffusor"
   ]
  },
  {
   "cell_type": "markdown",
   "id": "ad4475aa",
   "metadata": {},
   "source": [
    "The Diffusor can be written in a general form for n qubits. Remember that the diffusor is supposed to change the sign of all states perpendicular to the start state (or after rotating the start state back to the zero state: change the sign of all but the $|00...0\\rangle$ state). \n",
    "\n",
    "**Note**: *Changing the sign of all states but the zero state is the same as changing only the sign of the zero state*. A global minus sign (a global phase) does not influence the measurement (in fact it cannot be measured at all!).\n",
    "\n",
    "The plan for the general diffusor is:\n",
    "\n",
    "1. rotate the state back to the zero state\n",
    "2. change the sign of the $|00...0\\rangle$ state\n",
    "3. rotate back\n",
    "\n",
    "**Task 2.3**: Implement the general diffusor.\n",
    "\n",
    "<details>\n",
    "<summary>Click here for a hint</summary>\n",
    "The rotation again can be achieved by applying Hadamard gates to all qubits.\n",
    "</details>\n",
    "\n",
    "<details>\n",
    "<summary>Click here for a hint</summary>\n",
    "As we want to change the sign of the $|00...0\\rangle$ state and the easiest way to change the sign is with a $\\hat{Z}$ gate, it is convenient to first invert the state, i.e. convert all 0 states to 1 and all 1 states to 0. This can be achieved by applying $\\hat{X}$ gates to all qubits. Then one can flip the sign of the $|11...1\\rangle$ state with a $\\hat{Z}$ gate. Remember to undo this conversion after the sign flipping by again applying $\\hat{X}$ gates.\n",
    "</details>\n",
    "\n",
    "<details>\n",
    "<summary>Click here for a hint</summary>\n",
    "For flipping the sign of the $|1...1\\rangle$ state, you can again use a MultiControlledZ gate to make sure that the Z gate only effects the $|1...1\\rangle$ basis state.\n",
    "</details>"
   ]
  },
  {
   "cell_type": "code",
   "execution_count": null,
   "id": "a894c096-eb87-4f2e-85ab-342afcbe412b",
   "metadata": {},
   "outputs": [],
   "source": [
    "def diffusion_gates():\n",
    "    ################\n",
    "    # Your Code Here\n",
    "    ################\n",
    "    "
   ]
  },
  {
   "cell_type": "markdown",
   "id": "d62fabf1-3884-4e5c-bfac-09dfadd2f614",
   "metadata": {},
   "source": [
    "### Everything together"
   ]
  },
  {
   "cell_type": "markdown",
   "id": "3cad4ea3",
   "metadata": {},
   "source": [
    "For running the algorithm one also needs to know the number of grover iterations which are needed for maximizing the probability of the solution. The formula is provided in the next cell but will be discussed in more detail in the next notebook."
   ]
  },
  {
   "cell_type": "code",
   "execution_count": null,
   "id": "2830714b-e014-47b0-81f8-416813ea2a1f",
   "metadata": {},
   "outputs": [],
   "source": [
    "grover_iterations = int(np.ceil(np.sqrt(2**n_qubits)*np.pi/4.0 - 0.5))\n",
    "print(f\"Using {grover_iterations} Grover iterations\")"
   ]
  },
  {
   "cell_type": "code",
   "execution_count": null,
   "id": "97943fef-da4b-4680-b4af-2cea983836d9",
   "metadata": {},
   "outputs": [],
   "source": [
    "@qml.qnode(single_shot_device)\n",
    "def grover_circuit():\n",
    "    \n",
    "    state_preparation_gates()\n",
    "    for _ in range(grover_iterations):\n",
    "        oracle_gates()\n",
    "        diffusion_gates()\n",
    "    \n",
    "    return qml.sample()"
   ]
  },
  {
   "cell_type": "code",
   "execution_count": null,
   "id": "8aabb2d6-f838-4a80-b08e-d03b847dec8a",
   "metadata": {},
   "outputs": [],
   "source": [
    "qml.draw_mpl(grover_circuit)()"
   ]
  },
  {
   "cell_type": "code",
   "execution_count": null,
   "id": "bfffad69-f442-4d34-948e-f373a5e19c05",
   "metadata": {},
   "outputs": [],
   "source": [
    "samples = grover_circuit()\n",
    "print(samples)"
   ]
  },
  {
   "cell_type": "markdown",
   "id": "960cdb30",
   "metadata": {},
   "source": [
    "A single shot of the circuit should give you the solution with almost 100% probability. (Verify by checking a few samples or by increasing the shots and plotting a histogram.)"
   ]
  },
  {
   "cell_type": "markdown",
   "id": "dec6a13f-2c3e-4ff8-9251-b5c6995190ca",
   "metadata": {},
   "source": [
    "## Conclusion"
   ]
  },
  {
   "cell_type": "markdown",
   "id": "eff3ac89-bb19-48d8-9ac8-db37a8927a0b",
   "metadata": {},
   "source": [
    "The key to the Grover algorithm is the oracle function and some clever splitting, rotating and reflecting of the quantum state. Looking at the oracle function in this example here, you may have noticed that it was necessary to know the solution to implement the oracle function. And in this example game this is true, as the solution can only be verified by knowing the solution. However, there are also problems where the solution can be verified without knowing the solution explicitly. You will solve such a problem in the next notebook."
   ]
  },
  {
   "cell_type": "markdown",
   "id": "6b2b3a88-47a9-425e-9bfb-653fa1dd5222",
   "metadata": {},
   "source": [
    "# Solutions"
   ]
  },
  {
   "cell_type": "markdown",
   "id": "16d94077-dcd7-4522-8882-a1ee9730668e",
   "metadata": {},
   "source": [
    "<details>\n",
    "<summary>Solution 1.1</summary>\n",
    "<code>\n",
    "def state_preparation_gates():\n",
    "    ################\n",
    "    # Your Code Here\n",
    "    ################\n",
    "    # Apply the Hadamard gate to both qubits\n",
    "    for i in range(2):\n",
    "        qml.Hadamard(wires=i)\n",
    "</code>\n",
    "</details>"
   ]
  },
  {
   "cell_type": "markdown",
   "id": "328732d6-4ce2-40f9-a1cb-beb745639d3f",
   "metadata": {},
   "source": [
    "<details>\n",
    "<summary>Solution 1.2 (a)</summary>\n",
    "\\begin{align*}\n",
    "        \\hat{U}_f |00\\rangle &= \\left( I - 2 |11\\rangle \\langle 11| \\right) |00\\rangle\\\\\n",
    "                             &=  |00\\rangle - 2 |11\\rangle \\langle 11|00\\rangle\\\\\n",
    "                             &= |00\\rangle\n",
    "\\end{align*}\n",
    "    \n",
    "Note that $\\langle 11|00\\rangle = 0$ because the states are orthogonal. The same holds for $|01\\rangle$ and $|10\\rangle$.\n",
    "\n",
    "For $|11\\rangle$:\n",
    "    \n",
    "\\begin{align*}\n",
    "    \\hat{U}_f |11\\rangle &= \\left( I - 2 |11\\rangle \\langle 11| \\right) |11\\rangle\\\\\n",
    "                         &= |11\\rangle - 2 |11\\rangle \\langle 11|11\\rangle\\\\\n",
    "                         &= |11\\rangle - 2 |11\\rangle \\\\\n",
    "                         &= -|11\\rangle\n",
    "\\end{align*}\n",
    "\n",
    "Note that $\\langle 11|11\\rangle = 1$ as every quantum state is normalized.\n",
    "</details>"
   ]
  },
  {
   "cell_type": "markdown",
   "id": "e300dce3-0d1e-474a-a223-859a3a0975c1",
   "metadata": {},
   "source": [
    "<details>\n",
    "<summary>Solution 1.2 (b)</summary>\n",
    "In the 4 dimensional vector representation of the Hilbert space, the basis vector $|11\\rangle$ can be written as\n",
    "\n",
    "\\begin{align*}\n",
    "|11\\rangle = \\begin{bmatrix} 0 \\\\ 0 \\\\ 0 \\\\ 1 \\end{bmatrix}\n",
    "\\end{align*}\n",
    "\n",
    "and $\\langle 11|$ is the complex conjugate of this vector:\n",
    "\n",
    "\\begin{align*}\n",
    "\\langle 11| = \\begin{bmatrix} 0,  0,  0,  1 \\end{bmatrix}\n",
    "\\end{align*}\n",
    "\n",
    "Putting these together yields:\n",
    "\n",
    "\\begin{align*}\n",
    "    \\hat{U}_f &= I - 2 |11\\rangle \\langle 11| \\\\\n",
    "               &= \\begin{bmatrix} 1, 0, 0, 0 \\\\\n",
    "                                 0, 1, 0, 0 \\\\\n",
    "                                 0, 0, 1, 0 \\\\\n",
    "                                 0, 0, 0, 1 \\end{bmatrix}\n",
    "                - 2 \\begin{bmatrix} 0 \\\\ 0 \\\\ 0 \\\\ 1 \\end{bmatrix} \\begin{bmatrix} 0,  0,  0,  1 \\end{bmatrix}\\\\\n",
    "            &= \\begin{bmatrix} 1, 0, 0, 0 \\\\\n",
    "                               0, 1, 0, 0 \\\\\n",
    "                               0, 0, 1, 0 \\\\\n",
    "                               0, 0, 0, 1 \\end{bmatrix}\n",
    "                - \\begin{bmatrix} 0, 0, 0, 0 \\\\\n",
    "                                  0, 0, 0, 0 \\\\\n",
    "                                  0, 0, 0, 0 \\\\\n",
    "                                  0, 0, 0, 2 \\end{bmatrix}\\\\\n",
    "            &=  \\begin{bmatrix} 1, 0, 0, 0 \\\\\n",
    "                                0, 1, 0, 0 \\\\\n",
    "                                0, 0, 1, 0 \\\\\n",
    "                                0, 0, 0, -1 \\end{bmatrix}\n",
    "\\end{align*}\n",
    "</details>"
   ]
  },
  {
   "cell_type": "markdown",
   "id": "3744465c-41e8-4f02-aaef-eb581b7b02e8",
   "metadata": {},
   "source": [
    "<details>\n",
    "<summary>Solution 1.3</summary>\n",
    "<code>\n",
    "def oracle_gates():\n",
    "    ################\n",
    "    # Your Code Here\n",
    "    ################\n",
    "    qml.CZ([0, 1])\n",
    "</code>\n",
    "</details>"
   ]
  },
  {
   "cell_type": "markdown",
   "id": "fec25313-c6b3-46b6-b5b6-f05ce3cead04",
   "metadata": {},
   "source": [
    "<details>\n",
    "<summary>Solution 1.4</summary>\n",
    "<code>\n",
    "################\n",
    "# Your Code Here\n",
    "################\n",
    "\n",
    "@qml.qnode(device)\n",
    "def preparation_and_oracle_circuit():\n",
    "    state_preparation_gates()\n",
    "    oracle_gates()\n",
    "    return qml.sample()\n",
    "\n",
    "qml.draw_mpl(preparation_and_oracle_circuit)()\n",
    "sample_histogram(preparation_and_oracle_circuit())\n",
    "</code>\n",
    "</details>"
   ]
  },
  {
   "cell_type": "markdown",
   "id": "890fea68-8ea9-46f1-a9e6-b92352ff33f3",
   "metadata": {},
   "source": [
    "<details>\n",
    "<summary>Solution 1.5</summary>\n",
    "<code>\n",
    "def diffusion_gates():\n",
    "    ################\n",
    "    # Your Code Here\n",
    "    ################\n",
    "    for i in range(2):\n",
    "        qml.Hadamard(i)\n",
    "        qml.PauliZ(i)    \n",
    "    qml.CZ([0, 1])\n",
    "    for i in range(2):\n",
    "        qml.Hadamard(i)\n",
    "</code>\n",
    "</details>"
   ]
  },
  {
   "cell_type": "markdown",
   "id": "f83c4a8c-5c0a-4796-b3cf-a3046c0174fb",
   "metadata": {},
   "source": [
    "<details>\n",
    "<summary>Solution 2.1</summary>\n",
    "<code>\n",
    "def state_preparation_gates():\n",
    "    ################\n",
    "    # Your Code Here\n",
    "    ################\n",
    "    # Apply the Hadamard gate to all qubits\n",
    "    for i in range(n_qubits):\n",
    "        qml.Hadamard(wires=i)\n",
    "</code>\n",
    "</details>"
   ]
  },
  {
   "cell_type": "markdown",
   "id": "5c3974cc-96d6-432d-a335-9e34450234e4",
   "metadata": {},
   "source": [
    "<details>\n",
    "<summary>Solution 2.2</summary>\n",
    "<code>\n",
    "def oracle_gates():\n",
    "    ################\n",
    "    # Your Code Here\n",
    "    ################\n",
    "    qml.Hadamard(n_qubits-1)\n",
    "    qml.MultiControlledX(wires=[0, 1, 2, 3], control_values=\"100\")\n",
    "    qml.Hadamard(n_qubits-1)\n",
    "</code>\n",
    "</details>"
   ]
  },
  {
   "cell_type": "markdown",
   "id": "3db20b01-d71f-4065-b080-bd12813f3d91",
   "metadata": {},
   "source": [
    "<details>\n",
    "<summary>Solution 2.3</summary>\n",
    "<code>\n",
    "def diffusion_gates():\n",
    "    ################\n",
    "    # Your Code Here\n",
    "    ################\n",
    "    for i in range(n_qubits):\n",
    "        qml.Hadamard(i)\n",
    "    for i in range(n_qubits):\n",
    "        qml.PauliX(i)  \n",
    "    qml.Hadamard(n_qubits-1)\n",
    "    qml.MultiControlledX(wires=[i for i in range(n_qubits)])\n",
    "    qml.Hadamard(n_qubits-1)\n",
    "    for i in range(n_qubits):\n",
    "        qml.PauliX(i)\n",
    "    for i in range(n_qubits):\n",
    "        qml.Hadamard(i)\n",
    "</code>\n",
    "</details>"
   ]
  }
 ],
 "metadata": {
  "kernelspec": {
   "display_name": "Python 3 (ipykernel)",
   "language": "python",
   "name": "python3"
  },
  "language_info": {
   "codemirror_mode": {
    "name": "ipython",
    "version": 3
   },
   "file_extension": ".py",
   "mimetype": "text/x-python",
   "name": "python",
   "nbconvert_exporter": "python",
   "pygments_lexer": "ipython3",
   "version": "3.10.6"
  }
 },
 "nbformat": 4,
 "nbformat_minor": 5
}
