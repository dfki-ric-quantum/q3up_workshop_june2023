{
 "cells": [
  {
   "cell_type": "markdown",
   "metadata": {},
   "source": [
    "# Grover Algorithm - Toy Example"
   ]
  },
  {
   "cell_type": "markdown",
   "metadata": {},
   "source": [
    "Grover's algorithm allows for searching unstructured datasets.\n",
    "The introduction notebook provided an example implementation of Grover's algorithm.\n",
    "In this notebook, we will solve a toy problem to get a better understanding of how Grover's algorithm could be used and how to design the oracle.\n",
    "The example is based on [IBM textbook](https://learn.qiskit.org/course/ch-algorithms/grovers-algorithm#sudoku).\n",
    "We implement it with pennylane and analyze the impact of the number of Grover iteration steps on the success probabilty."
   ]
  },
  {
   "cell_type": "markdown",
   "metadata": {},
   "source": [
    "The smallest version mimics a simplified version of the game [sudoku](https://de.wikipedia.org/wiki/Sudoku).\n",
    "We consider a [grid](./img/grid_4.pdf) with four tiles $\\{t_0, t_1, t_2, t_3\\}$ which can be filled by either 0 or 1.\n",
    "Hence, we can describe each of the $2^4 = 16$ labeling possiblities with a bit string of length 4:\n",
    "$\\{0000, 0001, \\ldots, 0111, 1111\\}$ representing the value of each tile $t_0 t_1 t_2 t_3$.\n",
    "The task is to label the tiles such that neighbouring tiles at edges are not allowed to have the same number.\n",
    "Only diagonal tiles are allowed to have the same number.\n",
    "Since the example is small, we recognize that this task has exactly two solutions: $\\{0110, 1001\\}$."
   ]
  },
  {
   "cell_type": "markdown",
   "metadata": {},
   "source": [
    "In Task 1, we will implement an oracle such that Grover's algorithm creates the correct solution for the [grid_4](./img/grid_4.pdf) example. In Task 2, you alter the code to solve the [grid_6](./img/grid_6.pdf) with the same labeling rules. In Task 3, you analyze in detail how Grover iteration steps correspond to the probability of measuring the correct solution."
   ]
  },
  {
   "cell_type": "markdown",
   "metadata": {},
   "source": [
    "## Introduction"
   ]
  },
  {
   "cell_type": "markdown",
   "metadata": {},
   "source": [
    "First, let's import some necessary packages."
   ]
  },
  {
   "cell_type": "code",
   "execution_count": 1,
   "metadata": {},
   "outputs": [],
   "source": [
    "from collections.abc import Callable\n",
    "from typing import Tuple\n",
    "import numpy as np\n",
    "import pennylane as qml\n",
    "from workshop.utils import sample_histogram, print_sorted_samples, flatten_list"
   ]
  },
  {
   "cell_type": "markdown",
   "metadata": {},
   "source": [
    "Now, let us define the general diffuser."
   ]
  },
  {
   "cell_type": "code",
   "execution_count": 2,
   "metadata": {},
   "outputs": [],
   "source": [
    "def diffuser(qubits):\n",
    "    '''\n",
    "    We will return the diffuser as a circuit\n",
    "    '''\n",
    "    # Apply transformation |s> -> |00..0> (H-gates)\n",
    "    for qubit in qubits:\n",
    "        qml.Hadamard(qubit)\n",
    "        \n",
    "    # Apply transformation |00..0> -> |11..1> (X-gates)\n",
    "    for qubit in qubits:\n",
    "        qml.PauliX(qubit)\n",
    "        \n",
    "    # Do multi-controlled-Z gate\n",
    "    qml.Hadamard(qubits[-1])\n",
    "    qml.MultiControlledX(qubits[:-1], qubits[-1])  # multi-controlled-toffoli\n",
    "    qml.Hadamard(qubits[-1])\n",
    "    \n",
    "    # Apply transformation |11..1> -> |00..0>\n",
    "    for qubit in qubits:\n",
    "        qml.PauliX(qubit)\n",
    "        \n",
    "    # Apply transformation |00..0> -> |s>\n",
    "    for qubit in qubits:\n",
    "        qml.Hadamard(qubit)"
   ]
  },
  {
   "cell_type": "markdown",
   "metadata": {},
   "source": [
    "## Task 1: 2 x 2 grid"
   ]
  },
  {
   "cell_type": "markdown",
   "metadata": {},
   "source": [
    "We start to implement Grover's algorithm to solve the oracle for the smallest [grid_4](./img/grid_4.pdf) example.\n",
    "\n",
    "In the following, we provide a guidline of the necessary steps:\n",
    "1. Implement the oracle $U_f$.\n",
    "2. Prepare the inital states.\n",
    "3. Put initial state preparation, the oracle and the diffuser circuit together in one Grover circuit.\n",
    "4. Simulate the outcome."
   ]
  },
  {
   "cell_type": "markdown",
   "metadata": {},
   "source": [
    "### Task 1.1 Implement the oracle $U_f$."
   ]
  },
  {
   "cell_type": "markdown",
   "metadata": {},
   "source": [
    "<details>\n",
    "<summary>\n",
    "Suppose we have four tiles $|\\vec{t}\\rangle = |t_0t_1t_2t_3\\rangle$,\n",
    "four clauses $|\\vec{c}\\rangle = |c_0c_1c_2c_3\\rangle$ and one result qubit $|r\\rangle$. <br>\n",
    "We want our oracle to act on all qubit registers\n",
    "$|\\vec{t}\\rangle\\otimes |\\vec{c}\\rangle\\otimes |r\\rangle = |\\vec{t}\\vec{c}r\\rangle$\n",
    "and implement some function $f(t)$  with its value depending on the tile values $t$:\n",
    "\\[U_f|\\vec{t}\\vec{c}r\\rangle = |\\vec{t}\\vec{c}f(t)\\rangle.\\]\n",
    "Especially, we want\n",
    "\\[\n",
    "U_f|\\vec{t}\\vec{c}r\\rangle = \n",
    "\\begin{cases}\n",
    "    |\\vec{t}\\vec{c}r\\rangle \\quad \\text{ if $\\vec{t}$ is not a solution}\\\\\n",
    "    -|\\vec{t}\\vec{c}r\\rangle \\quad \\text{ if $\\vec{t}$ is a solution}\n",
    "\\end{cases}\n",
    "\\]\n",
    "If $|r\\rangle = |-\\rangle$, we can achieve this behaviour by applying a Pauli $\\operatorname{X}$\n",
    "on the result qubit $|-\\rangle$ if $\\vec{t}$ is a solution and do nothing otherwise, because:\n",
    "\\[\\operatorname{X}|-\\rangle\n",
    "    = \\frac{1}{\\sqrt{2}}(\\operatorname{X}|0\\rangle - \\operatorname{X}|1\\rangle\n",
    "    = \\frac{1}{\\sqrt{2}}(|1\\rangle - |0\\rangle)\n",
    "    = -\\frac{1}{\\sqrt{2}}(|0\\rangle - |1\\rangle)\n",
    "    = - |-\\rangle\n",
    "\\]\n",
    "which leads to\n",
    "\\[\n",
    "    U_f|\\vec{t}\\vec{c}-\\rangle = \n",
    "    \\begin{cases}\n",
    "        |\\vec{t}\\vec{c}-\\rangle \\quad \\text{ if $\\vec{t}$ is not a solution}\\\\\n",
    "        -|\\vec{t}\\vec{c}-\\rangle \\quad \\text{ if $\\vec{t}$ is a solution.}\n",
    "    \\end{cases}\n",
    "\\]\n",
    "The choice of the initialization $|r\\rangle = |-\\rangle$ determines the operation that needs to be performed in the orcale (in this case a multi-controlled X gate). Other choices are possible.\n",
    "</summary>\n",
    "</details>"
   ]
  },
  {
   "cell_type": "markdown",
   "metadata": {},
   "source": [
    "The following list explains in more detail how to implement the oracle:\n",
    " <ol>\n",
    "  <li>Define a clause list which includes the pairs of tiles that are not allowed to be the same.</li>\n",
    "  <li>Create auxilliary qubits for $|\\vec{t}\\vec{c}r\\rangle$\n",
    "      with different names to have a better overview. You may want to use <code>flatten_list()</code> to define the final list of all wires.</li>\n",
    "  <li>Implement an xor that compares two tile qubits and\n",
    "      stores the result on a clause qubit.</li>\n",
    "  <li>Create a device with all wires and 1000 shots. Build an execute method that can take any circuit and samples over all tile qubits $|\\vec{t}\\rangle$. Draw the circuit for one xor corresponding to one clause.</li>\n",
    "  <li>Apply this xor operation for each clause. Print the circuit.</li>\n",
    "  <li>$\\vec{t}$ is a solution only if all xor checks lead to one. Use a multicontrolled X gate controlled by the clause qubits and the result qubit as target.</li>\n",
    "  <li>Keep in mind that the clause calculation of (3) has to be undone to recreate the original state. Print this circuit $U_f$.</li>\n",
    "</ol> "
   ]
  },
  {
   "cell_type": "markdown",
   "metadata": {},
   "source": [
    "1.1.1 Define a clause list which includes the pairs of tiles that are not allowed to be the same."
   ]
  },
  {
   "cell_type": "code",
   "execution_count": 3,
   "metadata": {
    "tags": [
     "```{toggle}",
     "Some",
     "hidden",
     "toggle",
     "content!",
     "```"
    ]
   },
   "outputs": [],
   "source": [
    "clause_list = [\n",
    "    ################\n",
    "    # Your Code Here\n",
    "    ################\n",
    "    #[t_x,t_y], ...\n",
    "]"
   ]
  },
  {
   "cell_type": "markdown",
   "metadata": {},
   "source": [
    "<details>\n",
    "    <summary>\n",
    "        Click for solution of 1.1.1\n",
    "    </summary>\n",
    "    <code>\n",
    "[0,1],\n",
    "[0,2],\n",
    "[1,3],\n",
    "[2,3]</code>\n",
    "</details>"
   ]
  },
  {
   "cell_type": "markdown",
   "metadata": {},
   "source": [
    "1.1.2 Create auxilliary qubits for $|\\vec{t}\\vec{c}r\\rangle$ with different names to have a better overview. You may want to use <code>flatten_list()</code> to define the final list of all wires."
   ]
  },
  {
   "cell_type": "code",
   "execution_count": 4,
   "metadata": {},
   "outputs": [],
   "source": [
    "################\n",
    "# Your Code Here\n",
    "################"
   ]
  },
  {
   "cell_type": "markdown",
   "metadata": {},
   "source": [
    "<details>\n",
    "    <summary>\n",
    "        Click for solution of 1.1.2\n",
    "    </summary>\n",
    "    <code>#Create separate registers to name bits\n",
    "tile_qubits = ['t_0', 't_1','t_2','t_3']\n",
    "clause_qubits = ['c_0', 'c_1','c_2','c_3']\n",
    "result_qubits = ['r_0']\n",
    "\n",
    "wires = flatten_list([tile_qubits, clause_qubits, result_qubits])</code>\n",
    "</details>"
   ]
  },
  {
   "cell_type": "markdown",
   "metadata": {},
   "source": [
    "1.1.3 Implement an xor that compares two input qubits and stores the result on one output qubit."
   ]
  },
  {
   "cell_type": "code",
   "execution_count": 5,
   "metadata": {},
   "outputs": [],
   "source": [
    "def xor(input_qubits: list[str],\n",
    "        output_qubits: list[str]\n",
    "       ) -> None:\n",
    "    ################\n",
    "    # Your Code Here\n",
    "    ################"
   ]
  },
  {
   "cell_type": "markdown",
   "metadata": {},
   "source": [
    "<details>\n",
    "    <summary>\n",
    "        Click for solution of 1.1.3\n",
    "    </summary>\n",
    "    <code>\n",
    "qml.CNOT(wires=[input_qubits[0], output_qubits[0]])\n",
    "qml.CNOT(wires=[input_qubits[1], output_qubits[0]])</code>\n",
    "</details>"
   ]
  },
  {
   "cell_type": "markdown",
   "metadata": {},
   "source": [
    "1.1.4 Create a device with all wires and 1000 shots. Build an execute method that can take any circuit and samples over all tile qubits $|\\vec{t}\\rangle$. Draw the circuit for one xor corresponding to one clause."
   ]
  },
  {
   "cell_type": "code",
   "execution_count": 1,
   "metadata": {},
   "outputs": [],
   "source": [
    "################\n",
    "# Your Code Here\n",
    "################\n",
    "\n",
    "@qml.qnode(device)\n",
    "def execute(circuit: Callable,\n",
    "            wires: list[str],\n",
    "            *args: Tuple\n",
    "           ) -> np.ndarray:\n",
    "    circuit(*args)\n",
    "    return qml.sample(wires=wires)\n",
    "\n",
    "################\n",
    "# Your Code Here\n",
    "################"
   ]
  },
  {
   "cell_type": "markdown",
   "metadata": {},
   "source": [
    "<details>\n",
    "    <summary>\n",
    "        Click for solution of 1.1.4\n",
    "    </summary>\n",
    "    <code>device = qml.device('default.qubit', wires=wires, shots=1000)\n",
    "@qml.qnode(device)\n",
    "def execute(circuit: Callable,\n",
    "            wires: np.ndarray,\n",
    "            *args: Tuple\n",
    "           ) -> np.ndarray:\n",
    "    circuit(*args)\n",
    "    return qml.sample(wires=wires)\n",
    "circuit_arguments = (tile_qubits, clause_qubits)\n",
    "qml.draw_mpl(execute)(xor, tile_qubits, *circuit_arguments)</code>\n",
    "</details>"
   ]
  },
  {
   "cell_type": "markdown",
   "metadata": {},
   "source": [
    "1.1.5 Apply the xor function for each clause. Print the circuit."
   ]
  },
  {
   "cell_type": "code",
   "execution_count": null,
   "metadata": {},
   "outputs": [],
   "source": [
    "def clause_circuit(clause_list: list[int],\n",
    "                   tile_qubits: list[str],\n",
    "                   clause_qubits: list[str]\n",
    "                  ) -> None:\n",
    "    ################\n",
    "    # Your Code Here\n",
    "    ################\n",
    "\n",
    "################\n",
    "# Your Code Here\n",
    "################"
   ]
  },
  {
   "cell_type": "markdown",
   "metadata": {},
   "source": [
    "<details>\n",
    "    <summary>\n",
    "        Click for solution of 1.1.5\n",
    "    </summary>\n",
    "    <code>def clause_circuit(clause_list: np.ndarray,\n",
    "                   tile_qubits: np.ndarray,\n",
    "                   clause_qubits: np.ndarray\n",
    "                  ) -> None:\n",
    "    i = 0\n",
    "    for clause in clause_list:\n",
    "        xor([tile_qubits[clause[0]],\n",
    "             tile_qubits[clause[1]]],\n",
    "            [clause_qubits[i]])\n",
    "        i += 1\n",
    "circuit_arguments = (clause_list, tile_qubits, clause_qubits)\n",
    "qml.draw_mpl(execute)(clause_circuit, tile_qubits, *circuit_arguments)</code>\n",
    "</details>"
   ]
  },
  {
   "cell_type": "markdown",
   "metadata": {},
   "source": [
    "1.1.6 $\\vec{t}$ is a solution only if all xor checks lead to one. Use a multicontrolled X gate controlled by the clause qubits and the result qubit as target.\n",
    "Keep in mind that the clause calculation of (3) has to be undone to recreate the original state. Print this circuit $U_f$."
   ]
  },
  {
   "cell_type": "code",
   "execution_count": null,
   "metadata": {},
   "outputs": [],
   "source": [
    "def oracle(clause_list: list[int],\n",
    "           tile_qubits: list[str],\n",
    "           clause_qubits: list[str],\n",
    "           result_qubits: list[str]\n",
    "          ) -> None:\n",
    "    ################\n",
    "    # Your Code Here\n",
    "    ################\n",
    "\n",
    "\n",
    "################\n",
    "# Your Code Here\n",
    "################"
   ]
  },
  {
   "cell_type": "markdown",
   "metadata": {},
   "source": [
    "<details>\n",
    "    <summary>\n",
    "        Click for solution of 1.1.6\n",
    "    </summary>\n",
    "    <code>def oracle(clause_list: list[int],\n",
    "           tile_qubits: list[str],\n",
    "           clause_qubits: list[str],\n",
    "           result_qubits: list[str]\n",
    "          ) -> None:\n",
    "    # Compute clauses\n",
    "    clause_circuit(clause_list, tile_qubits, clause_qubits)\n",
    "    # Flip 'output' bit if all clauses are satisfied\n",
    "    qml.MultiControlledX(clause_qubits, result_qubits)\n",
    "    # Undo clauses\n",
    "    clause_circuit(clause_list, tile_qubits, clause_qubits)\n",
    "\n",
    "circuit_arguments = (clause_list, tile_qubits, clause_qubits, result_qubits)\n",
    "qml.draw_mpl(execute)(oracle, tile_qubits, *circuit_arguments)</code>\n",
    "</details>"
   ]
  },
  {
   "cell_type": "markdown",
   "metadata": {},
   "source": [
    "### 1.2 Prepare the initial state"
   ]
  },
  {
   "cell_type": "markdown",
   "metadata": {},
   "source": [
    "Implment a circuit that initializes the qubits $|\\vec{t}\\vec{c}r\\rangle$.\n",
    "<ol>\n",
    "  <li>All tile qubits have to be in superposition.</li>\n",
    "  <li>The result qubit has to be initialized to $|r\\rangle = |-\\rangle$.</li>\n",
    "</ol> "
   ]
  },
  {
   "cell_type": "code",
   "execution_count": 9,
   "metadata": {},
   "outputs": [],
   "source": [
    "def init_states(tile_qubits: list[str],\n",
    "                result_qubits: list[str]\n",
    "               ) -> None:\n",
    "    ################\n",
    "    # Your Code Here\n",
    "    ################"
   ]
  },
  {
   "cell_type": "markdown",
   "metadata": {},
   "source": [
    "<details>\n",
    "    <summary>\n",
    "        Click for solution of 1.2\n",
    "    </summary>\n",
    "    <code># Initialize qubits in state |s>\n",
    "    for q in tile_qubits:\n",
    "        qml.Hadamard(q)\n",
    "    # Initialize 'r' in state |->    \n",
    "    qml.PauliX(result_qubits[0])\n",
    "    qml.Hadamard(result_qubits[0])</code>\n",
    "</details>"
   ]
  },
  {
   "cell_type": "markdown",
   "metadata": {},
   "source": [
    "### 1.3 Grover circuit"
   ]
  },
  {
   "cell_type": "markdown",
   "metadata": {},
   "source": [
    "Combine initialization, oracle and diffuser circuit and print it."
   ]
  },
  {
   "cell_type": "code",
   "execution_count": null,
   "metadata": {},
   "outputs": [],
   "source": [
    "def grover_iteration(clause_list: list[int],\n",
    "                     tile_qubits: list[str],\n",
    "                     clause_qubits: list[str],\n",
    "                     result_qubits: list[str]\n",
    "                    ) -> None:\n",
    "    ################\n",
    "    # Your Code Here\n",
    "    ################\n",
    "\n",
    "    \n",
    "def grover(clause_list: list[int],\n",
    "           tile_qubits: list[str],\n",
    "           clause_qubits: list[str],\n",
    "           result_qubits: list[str]\n",
    "          ) -> None:\n",
    "    ################\n",
    "    # Your Code Here\n",
    "    ################\n",
    "\n",
    "\n",
    "################\n",
    "# Your Code Here\n",
    "################"
   ]
  },
  {
   "cell_type": "markdown",
   "metadata": {},
   "source": [
    "<details>\n",
    "    <summary>\n",
    "        Click for solution of 1.3\n",
    "    </summary>\n",
    "    <code>def grover_iteration(clause_list: list[int],\n",
    "                     tile_qubits: list[str],\n",
    "                     clause_qubits: list[str],\n",
    "                     result_qubits: list[str]\n",
    "                    ) -> None:\n",
    "    # Apply our oracle\n",
    "    oracle(clause_list, tile_qubits, clause_qubits, result_qubits)\n",
    "    # Apply our diffuser\n",
    "    diffuser(tile_qubits)\n",
    "    \n",
    "def grover(clause_list: list[int],\n",
    "           tile_qubits: list[str],\n",
    "           clause_qubits: list[str],\n",
    "           result_qubits: list[str]\n",
    "          ) -> None:\n",
    "    # Initialization\n",
    "    init_states(tile_qubits, result_qubits)\n",
    "    # One Iteration\n",
    "    grover_iteration(clause_list, tile_qubits, clause_qubits, result_qubits)\n",
    "\n",
    "circuit_arguments = (clause_list, tile_qubits, clause_qubits, result_qubits)\n",
    "qml.draw_mpl(execute)(grover, tile_qubits, *circuit_arguments)</code>\n",
    "</details>"
   ]
  },
  {
   "cell_type": "markdown",
   "metadata": {},
   "source": [
    "### 1.4 Simulate results"
   ]
  },
  {
   "cell_type": "markdown",
   "metadata": {},
   "source": [
    "Execute the Grover algorithm and plot the histogram. You may use the function `sample_histogram()` that we provide to plot the samples result."
   ]
  },
  {
   "cell_type": "code",
   "execution_count": 2,
   "metadata": {},
   "outputs": [],
   "source": [
    "################\n",
    "# Your Code Here\n",
    "################"
   ]
  },
  {
   "cell_type": "markdown",
   "metadata": {},
   "source": [
    "<details>\n",
    "    <summary>\n",
    "        Click for solution of 1.4\n",
    "    </summary>\n",
    "    <code>\n",
    "samples = execute(grover, tile_qubits, *circuit_arguments)\n",
    "sample_histogram(np.atleast_2d(samples))</code>\n",
    "</details>"
   ]
  },
  {
   "cell_type": "markdown",
   "metadata": {},
   "source": [
    "The correct solutions $|0110\\rangle$ and $|1001\\rangle$ should appeare roughly $350$ times each. All other states appear much less frequent (approximatly $<50$)."
   ]
  },
  {
   "cell_type": "markdown",
   "metadata": {},
   "source": [
    "## Task 2: 2X3 grid"
   ]
  },
  {
   "cell_type": "markdown",
   "metadata": {},
   "source": [
    "With the solution for the small [grid_4](./img/grid_4.pdf) with four tiles,\n",
    "we can alter the example slightly to get more familiar with the code.\n",
    "Let us consider the 6 tiles [grid_6](./img/grid_6.pdf).\n",
    "The task remains the same: label the tiles such that neighbouring tiles at edges are not allowed to have the same number. Only diagonal tiles are allowed to have the same number.\n",
    "Still, the example is easy and it has exactly two solutions. However, it will hopefully help to get more familiar with the code of how to implement the oracle."
   ]
  },
  {
   "cell_type": "markdown",
   "metadata": {},
   "source": [
    "Alter the code of Task 1 such that Grover's algorithm finds the two solutions for the [grid_6](./img/grid_6.pdf). To do so, change the clause list (which will impact the orcale) and the number of qubits. You also may want to use `print_sorted_samples()` to see the five states that occured most often.  "
   ]
  },
  {
   "cell_type": "code",
   "execution_count": 12,
   "metadata": {},
   "outputs": [],
   "source": [
    "################\n",
    "# Your Code Here\n",
    "################"
   ]
  },
  {
   "cell_type": "markdown",
   "metadata": {},
   "source": [
    "<details>\n",
    "    <summary>\n",
    "        Click two see the two correct solutions.\n",
    "    </summary>\n",
    "    The correct solutions to the 6 tiles example are $|011001\\rangle$ and $|100110\\rangle$. Both sould appear around $100$ times if one Grover iteration step is used.\n",
    "</details>"
   ]
  },
  {
   "cell_type": "markdown",
   "metadata": {},
   "source": [
    "# Task 3: How many Grover steps are necessary?\n",
    "\n",
    "We can express the probabilty of getting one of the correct solutions by the following formula\n",
    "$$ P(\\text{success}) = \\sin^2\\Bigl[ (2R+1)\\arccos \\bigl( \\sqrt{\\frac{N-M}{N}} \\bigr) \\Bigr] $$\n",
    "\n",
    "derived in the section \"Optimal number of iterations\" of the [microsoft textbook](https://learn.microsoft.com/en-us/azure/quantum/concepts-grovers)\n",
    "with $R$ the number of iteration steps, $N$ the number of possible states and $M$ the number of solutions.\n",
    "Please, note that $N=2^n$ with $n$ the number tiles in our toy example.\n",
    "\n",
    "How many iteration steps are necessary to optain the solutions with almost 100% probability?\n",
    "$$ R_{\\text{opt}} = \\frac{\\pi}{4} \\sqrt{\\frac{N}{M}} - \\frac{1}{2} - O(\\frac{M}{N})$$\n",
    "Derive this fact from the first equation by using $\\sin^2(\\frac{\\pi}{2} ) = 1 $ and $\\arccos(1-x) = \\sqrt{x} + O(x)$.\n",
    "\n",
    "How many iteration steps are necessary to optain the solutions with almost 50% probability?\n",
    "$$ R_{\\text{0.5}} = \\frac{\\pi}{8} \\sqrt{\\frac{N}{M}} - \\frac{1}{2} - O(\\frac{M}{N})$$\n",
    "Derive this fact from the first equation by using $\\sin^2(\\frac{\\pi}{4} ) = 0.5 $ and $\\arccos(1-x) = \\sqrt{x} + O(x)$."
   ]
  },
  {
   "cell_type": "markdown",
   "metadata": {},
   "source": [
    "We can use both equations to calculate the necessary iteration steps:\n",
    "\n",
    "| Iteration steps $R$ | $(n=4, M=2)$ | $(n=6, M=2)$ | $(n=8, M=2)$ |\n",
    "|---------------------|:------------:|:------------:|:------------:|\n",
    "| $R_{0.5}$           | $0.6$        | $1.7$        |$3.9$         |\n",
    "| $R_{\\text{opt}}$    | $1.7$        | $3.9$        |$8.4$         |\n",
    "\n",
    "Optional: Verify these numbers by analytic calculation."
   ]
  },
  {
   "cell_type": "markdown",
   "metadata": {},
   "source": [
    "By using the first equation, we obtain the following table:\n",
    "\n",
    "| Iteration steps $R$ | Probabilty P(success) | Probabilty P(success) | Probabilty P(success) |\n",
    "|---------------------|:---------------------:|:---------------------:|:---------------------:|\n",
    "|                     | $(n=4, M=2)$          | $(n=6, M=2)$          | $(n=8, M=2)$          |\n",
    "| 1                   | $78.1 \\%$             | $25.8 \\%$             | $6.9 \\%$              |\n",
    "| 2                   | $94.5 \\%$             | $60.2 \\%$             | $18.3 \\%$             |\n",
    "| 3                   | $\\ldots$              | $89.7 \\%$             | $33.7 \\%$             |\n",
    "| 4                   | $\\ldots$              | $99.9 \\%$             | $51.1 \\%$             |\n",
    "| $\\vdots$            | $\\vdots$              | $\\vdots$              | $\\vdots$              |\n",
    "| 8                   | $\\ldots$              | $\\ldots$              | $99.6 \\%$             |\n",
    "\n",
    "Verify these numbers (optional: by analytic calculation) by implementing each configuration and checking the probabilty for obtaining the correct solution.\n",
    "The grids are defined as in [grid_4](./img/grid_4.pdf), [grid_6](./img/grid_6.pdf) and [grid_8](./img/grid_8.pdf) with the same rules which means that all have exactly two solutions. You may want to use `print_sorted_samples()` to see the five states that occured most often.  "
   ]
  },
  {
   "cell_type": "code",
   "execution_count": 14,
   "metadata": {},
   "outputs": [],
   "source": [
    "################\n",
    "# Your Code Here\n",
    "################"
   ]
  }
 ],
 "metadata": {
  "kernelspec": {
   "display_name": "pennylane",
   "language": "python",
   "name": "pennylane"
  },
  "language_info": {
   "codemirror_mode": {
    "name": "ipython",
    "version": 3
   },
   "file_extension": ".py",
   "mimetype": "text/x-python",
   "name": "python",
   "nbconvert_exporter": "python",
   "pygments_lexer": "ipython3",
   "version": "3.10.6"
  }
 },
 "nbformat": 4,
 "nbformat_minor": 4
}
